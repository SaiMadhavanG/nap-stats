{
 "cells": [
  {
   "cell_type": "code",
   "execution_count": 13,
   "metadata": {},
   "outputs": [],
   "source": [
    "import torch\n",
    "import torch.nn as nn\n",
    "import numpy as np\n",
    "from tqdm.auto import tqdm\n",
    "import json\n",
    "from numpyencoder import NumpyEncoder\n",
    "from torchvision import transforms, datasets\n",
    "from torch.utils.data import DataLoader\n",
    "\n",
    "device = 'cuda' if torch.cuda.is_available() else 'cpu'"
   ]
  },
  {
   "cell_type": "code",
   "execution_count": 14,
   "metadata": {},
   "outputs": [],
   "source": [
    "# Global Configs\n",
    "DELTA = 0.99\n",
    "MODEL_PATH = \"./models/mnist_fc_64x4_adv_1.model\"\n",
    "EXPT_NAME = \"mnist_fc_64x4_adv_1_d99\"\n",
    "INPUT_SHAPE = (1, 1, 28, 28)"
   ]
  },
  {
   "cell_type": "code",
   "execution_count": 15,
   "metadata": {},
   "outputs": [],
   "source": [
    "# Define models\n",
    "class SimpleNN(nn.Module):\n",
    "    def __init__(self):\n",
    "        super(SimpleNN, self).__init__()\n",
    "        self.fc1 = nn.Linear(28 * 28, 64)\n",
    "        self.fc2 = nn.Linear(64, 64)\n",
    "        self.fc3 = nn.Linear(64, 64)\n",
    "        self.fc4 = nn.Linear(64, 64)\n",
    "        self.fc5 = nn.Linear(64, 10)\n",
    "\n",
    "    def forward(self, x):\n",
    "        x = x.view(-1, 28 * 28)\n",
    "        x = torch.relu(self.fc1(x))\n",
    "        x = torch.relu(self.fc2(x))\n",
    "        x = torch.relu(self.fc3(x))\n",
    "        x = torch.relu(self.fc4(x))\n",
    "        x = self.fc5(x)\n",
    "        return x\n",
    "\n",
    "def mnistfc():\n",
    "    return nn.Sequential(\n",
    "    nn.Flatten(),\n",
    "    nn.Linear(784, 64),\n",
    "    nn.ReLU(),\n",
    "    nn.Linear(64, 64),\n",
    "    nn.ReLU(),\n",
    "    nn.Linear(64, 64),\n",
    "    nn.ReLU(),\n",
    "    nn.Linear(64, 64),\n",
    "    nn.ReLU(),\n",
    "    nn.Linear(64, 10),\n",
    ")"
   ]
  },
  {
   "cell_type": "code",
   "execution_count": 16,
   "metadata": {},
   "outputs": [
    {
     "data": {
      "text/plain": [
       "Sequential(\n",
       "  (0): Flatten(start_dim=1, end_dim=-1)\n",
       "  (1): Linear(in_features=784, out_features=64, bias=True)\n",
       "  (2): ReLU()\n",
       "  (3): Linear(in_features=64, out_features=64, bias=True)\n",
       "  (4): ReLU()\n",
       "  (5): Linear(in_features=64, out_features=64, bias=True)\n",
       "  (6): ReLU()\n",
       "  (7): Linear(in_features=64, out_features=64, bias=True)\n",
       "  (8): ReLU()\n",
       "  (9): Linear(in_features=64, out_features=10, bias=True)\n",
       ")"
      ]
     },
     "execution_count": 16,
     "metadata": {},
     "output_type": "execute_result"
    }
   ],
   "source": [
    "# Load the model\n",
    "model = mnistfc().to(device)\n",
    "model.load_state_dict(torch.load(MODEL_PATH)['state_dict'])\n",
    "model.eval()"
   ]
  },
  {
   "cell_type": "code",
   "execution_count": 17,
   "metadata": {},
   "outputs": [],
   "source": [
    "# Data preprocessing\n",
    "transform = transforms.Compose([\n",
    "    transforms.ToTensor(),\n",
    "    transforms.Normalize((0.,), (1.,))\n",
    "])\n",
    "\n",
    "trainset = datasets.MNIST(root='./data', train=True, download=True, transform=transform)\n",
    "trainloader = DataLoader(trainset, batch_size=50000, shuffle=True)\n",
    "\n",
    "imgs, labels = next(iter(trainloader))"
   ]
  },
  {
   "cell_type": "code",
   "execution_count": 18,
   "metadata": {},
   "outputs": [],
   "source": [
    "# Hook to capture activations\n",
    "activations = {}\n",
    "def get_activation(name):\n",
    "    def hook(model, input, output):\n",
    "        activations[name] = output.detach().cpu()\n",
    "    return hook"
   ]
  },
  {
   "cell_type": "code",
   "execution_count": 19,
   "metadata": {},
   "outputs": [],
   "source": [
    "# Getting layers of interest\n",
    "layers = {}\n",
    "\n",
    "for module in model.named_modules():\n",
    "    if isinstance(module[1], nn.modules.activation.ReLU):\n",
    "        if isinstance(prev[1], nn.modules.linear.Linear):\n",
    "            layers[prev[0]] = prev[1].out_features\n",
    "    prev = module"
   ]
  },
  {
   "cell_type": "code",
   "execution_count": 20,
   "metadata": {},
   "outputs": [],
   "source": [
    "# Registering hooks for required layers\n",
    "for layer in layers:\n",
    "    model.__getattr__(layer).register_forward_hook(get_activation(layer))"
   ]
  },
  {
   "cell_type": "code",
   "execution_count": 21,
   "metadata": {},
   "outputs": [],
   "source": [
    "# Going through each label\n",
    "P = {\n",
    "    'config':\n",
    "    {\n",
    "        'net': MODEL_PATH,\n",
    "        'delta': DELTA,\n",
    "        'data_len': labels.shape[0],\n",
    "        'layers': layers,\n",
    "        'input_shape': INPUT_SHAPE\n",
    "    }\n",
    "}"
   ]
  },
  {
   "cell_type": "code",
   "execution_count": 22,
   "metadata": {},
   "outputs": [],
   "source": [
    "class ActivationCounter:\n",
    "    def __init__(self, layers: dict) -> None:\n",
    "        self.layers = layers\n",
    "        self.init_counter()\n",
    "        \n",
    "    def init_counter(self):\n",
    "        self.counter = {}\n",
    "\n",
    "        for layer in self.layers:\n",
    "            self.counter[layer] = np.zeros(self.layers[layer])\n",
    "\n",
    "    def add(self, layer, whether_activated):\n",
    "        self.counter[layer] += whether_activated\n",
    "\n",
    "    def getAD(self, delta, total_num):\n",
    "        A = []\n",
    "        D = []\n",
    "        for layer_idx, layer in enumerate(layers):\n",
    "            fr = self.counter[layer]/total_num\n",
    "            greater_than_delta = np.where(fr >= DELTA)\n",
    "            lesser_than_delta = np.where(fr < (1 - DELTA))\n",
    "            for neuron_idx in greater_than_delta[0]:\n",
    "                A.append((layer_idx, neuron_idx))\n",
    "            for neuron_idx in lesser_than_delta[0]:\n",
    "                D.append((layer_idx, neuron_idx))\n",
    "    \n",
    "        return A, D"
   ]
  },
  {
   "cell_type": "code",
   "execution_count": 23,
   "metadata": {},
   "outputs": [
    {
     "name": "stdout",
     "output_type": "stream",
     "text": [
      "Processing label 0...\n"
     ]
    },
    {
     "name": "stderr",
     "output_type": "stream",
     "text": [
      "100%|██████████| 4917/4917 [00:03<00:00, 1314.96it/s]\n"
     ]
    },
    {
     "name": "stdout",
     "output_type": "stream",
     "text": [
      "Processing label 1...\n"
     ]
    },
    {
     "name": "stderr",
     "output_type": "stream",
     "text": [
      "100%|██████████| 5650/5650 [00:04<00:00, 1379.25it/s]\n"
     ]
    },
    {
     "name": "stdout",
     "output_type": "stream",
     "text": [
      "Processing label 2...\n"
     ]
    },
    {
     "name": "stderr",
     "output_type": "stream",
     "text": [
      "100%|██████████| 4949/4949 [00:03<00:00, 1359.66it/s]\n"
     ]
    },
    {
     "name": "stdout",
     "output_type": "stream",
     "text": [
      "Processing label 3...\n"
     ]
    },
    {
     "name": "stderr",
     "output_type": "stream",
     "text": [
      "100%|██████████| 5115/5115 [00:03<00:00, 1366.33it/s]\n"
     ]
    },
    {
     "name": "stdout",
     "output_type": "stream",
     "text": [
      "Processing label 4...\n"
     ]
    },
    {
     "name": "stderr",
     "output_type": "stream",
     "text": [
      "100%|██████████| 4869/4869 [00:03<00:00, 1270.86it/s]\n"
     ]
    },
    {
     "name": "stdout",
     "output_type": "stream",
     "text": [
      "Processing label 5...\n"
     ]
    },
    {
     "name": "stderr",
     "output_type": "stream",
     "text": [
      "100%|██████████| 4498/4498 [00:03<00:00, 1342.14it/s]\n"
     ]
    },
    {
     "name": "stdout",
     "output_type": "stream",
     "text": [
      "Processing label 6...\n"
     ]
    },
    {
     "name": "stderr",
     "output_type": "stream",
     "text": [
      "100%|██████████| 4924/4924 [00:03<00:00, 1267.85it/s]\n"
     ]
    },
    {
     "name": "stdout",
     "output_type": "stream",
     "text": [
      "Processing label 7...\n"
     ]
    },
    {
     "name": "stderr",
     "output_type": "stream",
     "text": [
      "100%|██████████| 5238/5238 [00:03<00:00, 1314.70it/s]\n"
     ]
    },
    {
     "name": "stdout",
     "output_type": "stream",
     "text": [
      "Processing label 8...\n"
     ]
    },
    {
     "name": "stderr",
     "output_type": "stream",
     "text": [
      "100%|██████████| 4893/4893 [00:03<00:00, 1347.96it/s]\n"
     ]
    },
    {
     "name": "stdout",
     "output_type": "stream",
     "text": [
      "Processing label 9...\n"
     ]
    },
    {
     "name": "stderr",
     "output_type": "stream",
     "text": [
      "100%|██████████| 4947/4947 [00:03<00:00, 1343.74it/s]\n"
     ]
    }
   ],
   "source": [
    "for label in range(10):\n",
    "    # Filtering relevant data alone\n",
    "    mask = (labels == label)\n",
    "    S = imgs[mask]\n",
    "\n",
    "    # Initializing a counter\n",
    "    counter = ActivationCounter(layers)\n",
    "\n",
    "    # Counting across relevant data\n",
    "    print(f\"Processing label {label}...\")\n",
    "\n",
    "    for example in tqdm(S):\n",
    "        activations.clear()\n",
    "        with torch.no_grad():\n",
    "            model(example.unsqueeze(0).to(device))\n",
    "        \n",
    "        for layer, activation in activations.items():\n",
    "            whether_activated = (activation > 0).numpy().flatten()\n",
    "            counter.add(layer, whether_activated)\n",
    "\n",
    "    A, D = counter.getAD(DELTA, S.shape[0])\n",
    "\n",
    "    P[label] = {\n",
    "        \"A\": {\n",
    "            \"len\": len(A),\n",
    "            \"indices\": A\n",
    "        },\n",
    "        \"D\": {\n",
    "            \"len\": len(D),\n",
    "            \"indices\": D\n",
    "        }\n",
    "    }"
   ]
  },
  {
   "cell_type": "code",
   "execution_count": 24,
   "metadata": {},
   "outputs": [],
   "source": [
    "# Writing it out into a file\n",
    "with open(f\"./NAPs/{EXPT_NAME}.json\", \"w\") as f:\n",
    "    json.dump(P, f, cls=NumpyEncoder)"
   ]
  },
  {
   "cell_type": "code",
   "execution_count": null,
   "metadata": {},
   "outputs": [],
   "source": []
  }
 ],
 "metadata": {
  "kernelspec": {
   "display_name": "alpha-beta-crown",
   "language": "python",
   "name": "python3"
  },
  "language_info": {
   "codemirror_mode": {
    "name": "ipython",
    "version": 3
   },
   "file_extension": ".py",
   "mimetype": "text/x-python",
   "name": "python",
   "nbconvert_exporter": "python",
   "pygments_lexer": "ipython3",
   "version": "3.11.8"
  }
 },
 "nbformat": 4,
 "nbformat_minor": 2
}
