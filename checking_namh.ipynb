{
 "cells": [
  {
   "cell_type": "code",
   "execution_count": 40,
   "metadata": {},
   "outputs": [],
   "source": [
    "import json\n",
    "from typing import Tuple, List\n",
    "import numpy as np\n",
    "from maraboupy import Marabou, MarabouCore, MarabouUtils\n",
    "import logging\n",
    "import pandas"
   ]
  },
  {
   "cell_type": "code",
   "execution_count": 41,
   "metadata": {},
   "outputs": [],
   "source": [
    "PATH = './mnist-net_256x4.onnx'"
   ]
  },
  {
   "cell_type": "code",
   "execution_count": 42,
   "metadata": {},
   "outputs": [],
   "source": [
    "EPSILON = 0.5 \n",
    "PATTERN_PATH = './mnist_relu_patterns_0.json'\n",
    "MAX_TIME = 300 #in seconds\n",
    "M_OPTIONS: MarabouCore.Options = Marabou.createOptions(verbosity=0, numWorkers=10, timeoutInSeconds=MAX_TIME)"
   ]
  },
  {
   "cell_type": "code",
   "execution_count": 43,
   "metadata": {},
   "outputs": [],
   "source": [
    "with open(PATTERN_PATH, \"r\") as f:\n",
    "    STABLE_PATTERNS = json.load(f)"
   ]
  },
  {
   "cell_type": "code",
   "execution_count": 46,
   "metadata": {},
   "outputs": [
    {
     "data": {
      "text/plain": [
       "{0, 5923}"
      ]
     },
     "execution_count": 46,
     "metadata": {},
     "output_type": "execute_result"
    }
   ],
   "source": [
    "set(STABLE_PATTERNS['0']['val'])"
   ]
  },
  {
   "cell_type": "code",
   "execution_count": 21,
   "metadata": {},
   "outputs": [],
   "source": [
    "loc = 0.5\n",
    "radus = 0.5\n",
    "non_restricted_dim = []"
   ]
  },
  {
   "cell_type": "code",
   "execution_count": 22,
   "metadata": {},
   "outputs": [],
   "source": [
    "def init_network()->Marabou.MarabouNetworkNNet:\n",
    "    network:Marabou.MarabouNetworkNNet = Marabou.read_onnx(PATH)\n",
    "\n",
    "    # print(\"output nodes:\", network.outputVars)\n",
    "    # print(\"input nodes:\", network.inputVars)\n",
    "\n",
    "    logging.debug(\"relu list:\")\n",
    "    for r in network.reluList:\n",
    "        logging.debug(r)\n",
    "    for i in range(784):\n",
    "        network.setLowerBound(i, 0.0)\n",
    "        network.setUpperBound(i, 1.0)\n",
    "\n",
    "\n",
    "        # if i in non_restricted_dim:\n",
    "        #     network.setLowerBound(i, loc - radus)\n",
    "        #     network.setUpperBound(i, loc + radus)\n",
    "        # else:\n",
    "        #     network.setLowerBound(i, 0.00)\n",
    "        #     network.setUpperBound(i, 0.00)           \n",
    "  \n",
    "    return network"
   ]
  },
  {
   "cell_type": "code",
   "execution_count": 23,
   "metadata": {},
   "outputs": [],
   "source": [
    "def parse_raw_idx(raw_idx: int) -> Tuple[int, int, int]:\n",
    "    \"\"\"\n",
    "    only for MNIST 256xk network:\n",
    "    \"\"\"\n",
    "    n_relus = 256\n",
    "    offset = 28*28+10\n",
    "    layer = raw_idx // n_relus\n",
    "    idx = raw_idx % n_relus\n",
    "    marabou_idx = 2*n_relus*layer + idx + offset\n",
    "    return layer, idx, marabou_idx"
   ]
  },
  {
   "cell_type": "code",
   "execution_count": 24,
   "metadata": {},
   "outputs": [],
   "source": [
    "def add_relu_constraints(network: Marabou.MarabouNetworkNNet, \n",
    "                        relu_check_list: List[int], \n",
    "                        relu_val: List[int])->Marabou.MarabouNetworkNNet:\n",
    "    \"\"\"\n",
    "    Add stable relus constraints to the Marabou network\n",
    "    \"\"\"\n",
    "    for i in range(len(relu_check_list)):\n",
    "        layer, idx, marabou_idx = parse_raw_idx(relu_check_list[i])     \n",
    "        if relu_val[i] < 2500:        \n",
    "#        if relu_val[i] == 0:\n",
    "            constraint = MarabouUtils.Equation(MarabouCore.Equation.LE)\n",
    "            constraint.addAddend(1, marabou_idx)\n",
    "            constraint.setScalar(-0.001)\n",
    "        else:\n",
    "            constraint = MarabouUtils.Equation(MarabouCore.Equation.GE)\n",
    "            constraint.addAddend(1, marabou_idx)\n",
    "            constraint.setScalar(0.001)\n",
    "        network.addEquation(constraint)\n",
    "\n",
    "    return network"
   ]
  },
  {
   "cell_type": "code",
   "execution_count": 25,
   "metadata": {},
   "outputs": [],
   "source": [
    "def find_one_assignment(relu_check_list: List[int], relu_val: List[int])->None:\n",
    "    network = init_network()\n",
    "    network = add_relu_constraints(network, relu_check_list, relu_val)    \n",
    "    exitCode, vals, stats = network.solve()\n",
    "    assert(exitCode==\"sat\")    \n",
    "    for idx, r in enumerate(relu_check_list):\n",
    "        marabou_idx = parse_raw_idx(r)[-1]\n",
    "#        print(marabou_idx, vals[marabou_idx], relu_val[idx])"
   ]
  },
  {
   "cell_type": "code",
   "execution_count": 26,
   "metadata": {},
   "outputs": [],
   "source": [
    "def check_pattern(relu_check_list: List[int], relu_val: List[int], label: int, other_label: int)->Tuple[str, int]:\n",
    "    \"\"\"\n",
    "    In ACAS, the prediction is the label with smallest value.\n",
    "    So we check that label - other_label < 0 forall input\n",
    "    by finding assignments for label - other_label >=0\n",
    "    \"\"\"\n",
    "    print(\"--------CHECK PATTERN: output_{} is always less than output_{} ? --------\".format(label, other_label))\n",
    "    network = init_network()\n",
    "    network = add_relu_constraints(network, relu_check_list, relu_val)    \n",
    "    offset = network.outputVars[0][0][0]\n",
    "\n",
    "    #print(network.numVars)\n",
    "    #print(network.reluList)\n",
    "    #print(network.outputVars)\n",
    "\n",
    "    #add output constraint\n",
    "    constraint = MarabouUtils.Equation(MarabouCore.Equation.GE)\n",
    "    constraint.addAddend(1, other_label+offset)\n",
    "    constraint.addAddend(-1, label+offset)\n",
    "    constraint.setScalar(0.001)\n",
    "    network.addEquation(constraint)\n",
    "\n",
    "    exit_code: str    \n",
    "    exit_code, vals, stats = network.solve(options=M_OPTIONS)\n",
    "    running_time:int = stats.getTotalTimeInMicro()\n",
    "    for idx, r in enumerate(relu_check_list):\n",
    "        marabou_idx = parse_raw_idx(r)[-1]\n",
    "\n",
    "    return exit_code, running_time"
   ]
  },
  {
   "cell_type": "code",
   "execution_count": 27,
   "metadata": {},
   "outputs": [],
   "source": [
    "def main():\n",
    "    res = [[-1.]*10 for i in range(10)]\n",
    "    # print(res)\n",
    "    for label in STABLE_PATTERNS:\n",
    "        print(f\"For label {label}, check if its stable RELU pattern guarantees the output\")\n",
    "        for other_label in range(10):\n",
    "            if other_label == int(label):\n",
    "                continue\n",
    "            relu_check_list = STABLE_PATTERNS[label][\"stable_idx\"]\n",
    "            relu_val = STABLE_PATTERNS[label][\"val\"] \n",
    "            exit_code, running_time = check_pattern(relu_check_list, relu_val, label=int(label), other_label = other_label)\n",
    "            if exit_code==\"sat\":\n",
    "                res[int(label)][other_label] = \"SAT:{}\".format(running_time/10**6)\n",
    "                break\n",
    "            elif exit_code==\"unsat\":\n",
    "                res[int(label)][other_label] = \"UNS:{}\".format(running_time/10**6)\n",
    "            else:\n",
    "                res[int(label)][other_label] = exit_code\n",
    "\n",
    "    res = pandas.DataFrame(res)\n",
    "    print(res)"
   ]
  },
  {
   "cell_type": "code",
   "execution_count": 39,
   "metadata": {},
   "outputs": [
    {
     "data": {
      "text/plain": [
       "{0,\n",
       " 1,\n",
       " 2,\n",
       " 3,\n",
       " 4,\n",
       " 5,\n",
       " 6,\n",
       " 7,\n",
       " 8,\n",
       " 9,\n",
       " 10,\n",
       " 11,\n",
       " 12,\n",
       " 13,\n",
       " 14,\n",
       " 15,\n",
       " 16,\n",
       " 17,\n",
       " 18,\n",
       " 19,\n",
       " 20,\n",
       " 21,\n",
       " 22,\n",
       " 23,\n",
       " 24,\n",
       " 25,\n",
       " 26,\n",
       " 27,\n",
       " 28,\n",
       " 29,\n",
       " 30,\n",
       " 31,\n",
       " 32,\n",
       " 33,\n",
       " 34,\n",
       " 35,\n",
       " 36,\n",
       " 37,\n",
       " 38,\n",
       " 39,\n",
       " 41,\n",
       " 42,\n",
       " 44,\n",
       " 45,\n",
       " 46,\n",
       " 47,\n",
       " 48,\n",
       " 49,\n",
       " 50,\n",
       " 51,\n",
       " 52,\n",
       " 53,\n",
       " 55,\n",
       " 56,\n",
       " 58,\n",
       " 5801,\n",
       " 5812,\n",
       " 5814,\n",
       " 5818,\n",
       " 5826,\n",
       " 5827,\n",
       " 5831,\n",
       " 5833,\n",
       " 5838,\n",
       " 5850}"
      ]
     },
     "execution_count": 39,
     "metadata": {},
     "output_type": "execute_result"
    }
   ],
   "source": [
    "set(STABLE_PATTERNS['8']['val'])"
   ]
  },
  {
   "cell_type": "code",
   "execution_count": 28,
   "metadata": {},
   "outputs": [
    {
     "name": "stdout",
     "output_type": "stream",
     "text": [
      "For label 0, check if its stable RELU pattern guarantees the output\n",
      "--------CHECK PATTERN: output_0 is always less than output_1 ? --------\n",
      "unsat\n",
      "--------CHECK PATTERN: output_0 is always less than output_2 ? --------\n",
      "unsat\n",
      "--------CHECK PATTERN: output_0 is always less than output_3 ? --------\n",
      "unsat\n",
      "--------CHECK PATTERN: output_0 is always less than output_4 ? --------\n",
      "unsat\n",
      "--------CHECK PATTERN: output_0 is always less than output_5 ? --------\n",
      "unsat\n",
      "--------CHECK PATTERN: output_0 is always less than output_6 ? --------\n",
      "unsat\n",
      "--------CHECK PATTERN: output_0 is always less than output_7 ? --------\n",
      "unsat\n",
      "--------CHECK PATTERN: output_0 is always less than output_8 ? --------\n",
      "unsat\n",
      "--------CHECK PATTERN: output_0 is always less than output_9 ? --------\n",
      "unsat\n",
      "For label 1, check if its stable RELU pattern guarantees the output\n",
      "--------CHECK PATTERN: output_1 is always less than output_0 ? --------\n",
      "unsat\n",
      "--------CHECK PATTERN: output_1 is always less than output_2 ? --------\n",
      "unsat\n",
      "--------CHECK PATTERN: output_1 is always less than output_3 ? --------\n",
      "unsat\n",
      "--------CHECK PATTERN: output_1 is always less than output_4 ? --------\n",
      "unsat\n",
      "--------CHECK PATTERN: output_1 is always less than output_5 ? --------\n",
      "unsat\n",
      "--------CHECK PATTERN: output_1 is always less than output_6 ? --------\n",
      "unsat\n",
      "--------CHECK PATTERN: output_1 is always less than output_7 ? --------\n",
      "unsat\n",
      "--------CHECK PATTERN: output_1 is always less than output_8 ? --------\n",
      "unsat\n",
      "--------CHECK PATTERN: output_1 is always less than output_9 ? --------\n",
      "unsat\n",
      "For label 2, check if its stable RELU pattern guarantees the output\n",
      "--------CHECK PATTERN: output_2 is always less than output_0 ? --------\n",
      "unsat\n",
      "--------CHECK PATTERN: output_2 is always less than output_1 ? --------\n",
      "unsat\n",
      "--------CHECK PATTERN: output_2 is always less than output_3 ? --------\n",
      "unsat\n",
      "--------CHECK PATTERN: output_2 is always less than output_4 ? --------\n",
      "unsat\n",
      "--------CHECK PATTERN: output_2 is always less than output_5 ? --------\n",
      "unsat\n",
      "--------CHECK PATTERN: output_2 is always less than output_6 ? --------\n",
      "unsat\n",
      "--------CHECK PATTERN: output_2 is always less than output_7 ? --------\n",
      "unsat\n",
      "--------CHECK PATTERN: output_2 is always less than output_8 ? --------\n",
      "unsat\n",
      "--------CHECK PATTERN: output_2 is always less than output_9 ? --------\n",
      "unsat\n",
      "For label 3, check if its stable RELU pattern guarantees the output\n",
      "--------CHECK PATTERN: output_3 is always less than output_0 ? --------\n",
      "unsat\n",
      "--------CHECK PATTERN: output_3 is always less than output_1 ? --------\n",
      "unsat\n",
      "--------CHECK PATTERN: output_3 is always less than output_2 ? --------\n",
      "unsat\n",
      "--------CHECK PATTERN: output_3 is always less than output_4 ? --------\n",
      "unsat\n",
      "--------CHECK PATTERN: output_3 is always less than output_5 ? --------\n",
      "unsat\n",
      "--------CHECK PATTERN: output_3 is always less than output_6 ? --------\n",
      "unsat\n",
      "--------CHECK PATTERN: output_3 is always less than output_7 ? --------\n",
      "unsat\n",
      "--------CHECK PATTERN: output_3 is always less than output_8 ? --------\n",
      "unsat\n",
      "--------CHECK PATTERN: output_3 is always less than output_9 ? --------\n",
      "unsat\n",
      "For label 4, check if its stable RELU pattern guarantees the output\n",
      "--------CHECK PATTERN: output_4 is always less than output_0 ? --------\n",
      "unsat\n",
      "--------CHECK PATTERN: output_4 is always less than output_1 ? --------\n",
      "unsat\n",
      "--------CHECK PATTERN: output_4 is always less than output_2 ? --------\n",
      "unsat\n",
      "--------CHECK PATTERN: output_4 is always less than output_3 ? --------\n",
      "unsat\n",
      "--------CHECK PATTERN: output_4 is always less than output_5 ? --------\n",
      "unsat\n",
      "--------CHECK PATTERN: output_4 is always less than output_6 ? --------\n",
      "unsat\n",
      "--------CHECK PATTERN: output_4 is always less than output_7 ? --------\n",
      "unsat\n",
      "--------CHECK PATTERN: output_4 is always less than output_8 ? --------\n",
      "unsat\n",
      "--------CHECK PATTERN: output_4 is always less than output_9 ? --------\n",
      "unsat\n",
      "For label 5, check if its stable RELU pattern guarantees the output\n",
      "--------CHECK PATTERN: output_5 is always less than output_0 ? --------\n",
      "unsat\n",
      "--------CHECK PATTERN: output_5 is always less than output_1 ? --------\n",
      "unsat\n",
      "--------CHECK PATTERN: output_5 is always less than output_2 ? --------\n",
      "unsat\n",
      "--------CHECK PATTERN: output_5 is always less than output_3 ? --------\n",
      "unsat\n",
      "--------CHECK PATTERN: output_5 is always less than output_4 ? --------\n",
      "unsat\n",
      "--------CHECK PATTERN: output_5 is always less than output_6 ? --------\n",
      "unsat\n",
      "--------CHECK PATTERN: output_5 is always less than output_7 ? --------\n",
      "unsat\n",
      "--------CHECK PATTERN: output_5 is always less than output_8 ? --------\n",
      "unsat\n",
      "--------CHECK PATTERN: output_5 is always less than output_9 ? --------\n",
      "unsat\n",
      "For label 6, check if its stable RELU pattern guarantees the output\n",
      "--------CHECK PATTERN: output_6 is always less than output_0 ? --------\n",
      "unsat\n",
      "--------CHECK PATTERN: output_6 is always less than output_1 ? --------\n",
      "unsat\n",
      "--------CHECK PATTERN: output_6 is always less than output_2 ? --------\n",
      "unsat\n",
      "--------CHECK PATTERN: output_6 is always less than output_3 ? --------\n",
      "unsat\n",
      "--------CHECK PATTERN: output_6 is always less than output_4 ? --------\n",
      "unsat\n",
      "--------CHECK PATTERN: output_6 is always less than output_5 ? --------\n",
      "unsat\n",
      "--------CHECK PATTERN: output_6 is always less than output_7 ? --------\n",
      "unsat\n",
      "--------CHECK PATTERN: output_6 is always less than output_8 ? --------\n",
      "unsat\n",
      "--------CHECK PATTERN: output_6 is always less than output_9 ? --------\n"
     ]
    },
    {
     "ename": "KeyboardInterrupt",
     "evalue": "",
     "output_type": "error",
     "traceback": [
      "\u001b[0;31m---------------------------------------------------------------------------\u001b[0m",
      "\u001b[0;31mKeyboardInterrupt\u001b[0m                         Traceback (most recent call last)",
      "Cell \u001b[0;32mIn[28], line 1\u001b[0m\n\u001b[0;32m----> 1\u001b[0m \u001b[43mmain\u001b[49m\u001b[43m(\u001b[49m\u001b[43m)\u001b[49m\n",
      "Cell \u001b[0;32mIn[27], line 11\u001b[0m, in \u001b[0;36mmain\u001b[0;34m()\u001b[0m\n\u001b[1;32m      9\u001b[0m relu_check_list \u001b[38;5;241m=\u001b[39m STABLE_PATTERNS[label][\u001b[38;5;124m\"\u001b[39m\u001b[38;5;124mstable_idx\u001b[39m\u001b[38;5;124m\"\u001b[39m]\n\u001b[1;32m     10\u001b[0m relu_val \u001b[38;5;241m=\u001b[39m STABLE_PATTERNS[label][\u001b[38;5;124m\"\u001b[39m\u001b[38;5;124mval\u001b[39m\u001b[38;5;124m\"\u001b[39m] \n\u001b[0;32m---> 11\u001b[0m exit_code, running_time \u001b[38;5;241m=\u001b[39m \u001b[43mcheck_pattern\u001b[49m\u001b[43m(\u001b[49m\u001b[43mrelu_check_list\u001b[49m\u001b[43m,\u001b[49m\u001b[43m \u001b[49m\u001b[43mrelu_val\u001b[49m\u001b[43m,\u001b[49m\u001b[43m \u001b[49m\u001b[43mlabel\u001b[49m\u001b[38;5;241;43m=\u001b[39;49m\u001b[38;5;28;43mint\u001b[39;49m\u001b[43m(\u001b[49m\u001b[43mlabel\u001b[49m\u001b[43m)\u001b[49m\u001b[43m,\u001b[49m\u001b[43m \u001b[49m\u001b[43mother_label\u001b[49m\u001b[43m \u001b[49m\u001b[38;5;241;43m=\u001b[39;49m\u001b[43m \u001b[49m\u001b[43mother_label\u001b[49m\u001b[43m)\u001b[49m\n\u001b[1;32m     12\u001b[0m \u001b[38;5;28;01mif\u001b[39;00m exit_code\u001b[38;5;241m==\u001b[39m\u001b[38;5;124m\"\u001b[39m\u001b[38;5;124msat\u001b[39m\u001b[38;5;124m\"\u001b[39m:\n\u001b[1;32m     13\u001b[0m     res[\u001b[38;5;28mint\u001b[39m(label)][other_label] \u001b[38;5;241m=\u001b[39m \u001b[38;5;124m\"\u001b[39m\u001b[38;5;124mSAT:\u001b[39m\u001b[38;5;132;01m{}\u001b[39;00m\u001b[38;5;124m\"\u001b[39m\u001b[38;5;241m.\u001b[39mformat(running_time\u001b[38;5;241m/\u001b[39m\u001b[38;5;241m10\u001b[39m\u001b[38;5;241m*\u001b[39m\u001b[38;5;241m*\u001b[39m\u001b[38;5;241m6\u001b[39m)\n",
      "Cell \u001b[0;32mIn[26], line 24\u001b[0m, in \u001b[0;36mcheck_pattern\u001b[0;34m(relu_check_list, relu_val, label, other_label)\u001b[0m\n\u001b[1;32m     21\u001b[0m network\u001b[38;5;241m.\u001b[39maddEquation(constraint)\n\u001b[1;32m     23\u001b[0m exit_code: \u001b[38;5;28mstr\u001b[39m    \n\u001b[0;32m---> 24\u001b[0m exit_code, vals, stats \u001b[38;5;241m=\u001b[39m \u001b[43mnetwork\u001b[49m\u001b[38;5;241;43m.\u001b[39;49m\u001b[43msolve\u001b[49m\u001b[43m(\u001b[49m\u001b[43moptions\u001b[49m\u001b[38;5;241;43m=\u001b[39;49m\u001b[43mM_OPTIONS\u001b[49m\u001b[43m)\u001b[49m\n\u001b[1;32m     25\u001b[0m running_time:\u001b[38;5;28mint\u001b[39m \u001b[38;5;241m=\u001b[39m stats\u001b[38;5;241m.\u001b[39mgetTotalTimeInMicro()\n\u001b[1;32m     26\u001b[0m \u001b[38;5;28;01mfor\u001b[39;00m idx, r \u001b[38;5;129;01min\u001b[39;00m \u001b[38;5;28menumerate\u001b[39m(relu_check_list):\n",
      "File \u001b[0;32m~/.local/lib/python3.10/site-packages/maraboupy/MarabouNetwork.py:75\u001b[0m, in \u001b[0;36mMarabouNetwork.solve\u001b[0;34m(self, filename, verbose, options, propertyFilename)\u001b[0m\n\u001b[1;32m     73\u001b[0m \u001b[38;5;28;01mif\u001b[39;00m options \u001b[38;5;241m==\u001b[39m \u001b[38;5;28;01mNone\u001b[39;00m:\n\u001b[1;32m     74\u001b[0m     options \u001b[38;5;241m=\u001b[39m MarabouCore\u001b[38;5;241m.\u001b[39mOptions()\n\u001b[0;32m---> 75\u001b[0m exitCode, vals, stats \u001b[38;5;241m=\u001b[39m \u001b[43mMarabouCore\u001b[49m\u001b[38;5;241;43m.\u001b[39;49m\u001b[43msolve\u001b[49m\u001b[43m(\u001b[49m\u001b[43mipq\u001b[49m\u001b[43m,\u001b[49m\u001b[43m \u001b[49m\u001b[43moptions\u001b[49m\u001b[43m,\u001b[49m\u001b[43m \u001b[49m\u001b[38;5;28;43mstr\u001b[39;49m\u001b[43m(\u001b[49m\u001b[43mfilename\u001b[49m\u001b[43m)\u001b[49m\u001b[43m)\u001b[49m\n\u001b[1;32m     76\u001b[0m \u001b[38;5;28;01mif\u001b[39;00m verbose:\n\u001b[1;32m     77\u001b[0m     \u001b[38;5;28mprint\u001b[39m(exitCode)\n",
      "\u001b[0;31mKeyboardInterrupt\u001b[0m: "
     ]
    }
   ],
   "source": [
    "main()"
   ]
  },
  {
   "cell_type": "code",
   "execution_count": 48,
   "metadata": {},
   "outputs": [],
   "source": [
    "net = init_network()"
   ]
  },
  {
   "cell_type": "code",
   "execution_count": 54,
   "metadata": {},
   "outputs": [
    {
     "data": {
      "text/plain": [
       "[]"
      ]
     },
     "execution_count": 54,
     "metadata": {},
     "output_type": "execute_result"
    }
   ],
   "source": [
    "net."
   ]
  },
  {
   "cell_type": "code",
   "execution_count": null,
   "metadata": {},
   "outputs": [],
   "source": []
  }
 ],
 "metadata": {
  "kernelspec": {
   "display_name": "Python 3",
   "language": "python",
   "name": "python3"
  },
  "language_info": {
   "codemirror_mode": {
    "name": "ipython",
    "version": 3
   },
   "file_extension": ".py",
   "mimetype": "text/x-python",
   "name": "python",
   "nbconvert_exporter": "python",
   "pygments_lexer": "ipython3",
   "version": "3.10.12"
  }
 },
 "nbformat": 4,
 "nbformat_minor": 2
}
