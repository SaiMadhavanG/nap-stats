{
  "cells": [
    {
      "cell_type": "code",
      "execution_count": 1,
      "metadata": {
        "colab": {
          "base_uri": "https://localhost:8080/"
        },
        "id": "z_X033oPFf-0",
        "outputId": "15f7ae45-710e-49be-aed5-ad25d7b38ec3"
      },
      "outputs": [
        {
          "name": "stdout",
          "output_type": "stream",
          "text": [
            "Defaulting to user installation because normal site-packages is not writeable\n",
            "Requirement already satisfied: onnx in /home/saimadhavang/.local/lib/python3.10/site-packages (1.16.0)\n",
            "Requirement already satisfied: numpy>=1.20 in /home/saimadhavang/.local/lib/python3.10/site-packages (from onnx) (1.26.4)\n",
            "Requirement already satisfied: protobuf>=3.20.2 in /home/saimadhavang/.local/lib/python3.10/site-packages (from onnx) (5.26.1)\n",
            "Defaulting to user installation because normal site-packages is not writeable\n",
            "Requirement already satisfied: onnxruntime in /home/saimadhavang/.local/lib/python3.10/site-packages (1.17.3)\n",
            "Requirement already satisfied: flatbuffers in /home/saimadhavang/.local/lib/python3.10/site-packages (from onnxruntime) (24.3.25)\n",
            "Requirement already satisfied: numpy>=1.21.6 in /home/saimadhavang/.local/lib/python3.10/site-packages (from onnxruntime) (1.26.4)\n",
            "Requirement already satisfied: protobuf in /home/saimadhavang/.local/lib/python3.10/site-packages (from onnxruntime) (5.26.1)\n",
            "Requirement already satisfied: packaging in /home/saimadhavang/.local/lib/python3.10/site-packages (from onnxruntime) (24.0)\n",
            "Requirement already satisfied: coloredlogs in /home/saimadhavang/.local/lib/python3.10/site-packages (from onnxruntime) (15.0.1)\n",
            "Requirement already satisfied: sympy in /home/saimadhavang/.local/lib/python3.10/site-packages (from onnxruntime) (1.12)\n",
            "Requirement already satisfied: humanfriendly>=9.1 in /home/saimadhavang/.local/lib/python3.10/site-packages (from coloredlogs->onnxruntime) (10.0)\n",
            "Requirement already satisfied: mpmath>=0.19 in /home/saimadhavang/.local/lib/python3.10/site-packages (from sympy->onnxruntime) (1.3.0)\n",
            "Defaulting to user installation because normal site-packages is not writeable\n",
            "Collecting onnx2pytorch\n",
            "  Downloading onnx2pytorch-0.4.1-py3-none-any.whl (44 kB)\n",
            "\u001b[2K     \u001b[90m━━━━━━━━━━━━━━━━━━━━━━━━━━━━━━━━━━━━━━━\u001b[0m \u001b[32m44.9/44.9 KB\u001b[0m \u001b[31m829.3 kB/s\u001b[0m eta \u001b[36m0:00:00\u001b[0m \u001b[36m0:00:01\u001b[0m\n",
            "\u001b[?25hRequirement already satisfied: torchvision>=0.9.0 in /home/saimadhavang/.local/lib/python3.10/site-packages (from onnx2pytorch) (0.18.0)\n",
            "Requirement already satisfied: torch>=1.4.0 in /home/saimadhavang/.local/lib/python3.10/site-packages (from onnx2pytorch) (2.3.0)\n",
            "Requirement already satisfied: onnx>=1.6.0 in /home/saimadhavang/.local/lib/python3.10/site-packages (from onnx2pytorch) (1.16.0)\n",
            "Requirement already satisfied: numpy>=1.20 in /home/saimadhavang/.local/lib/python3.10/site-packages (from onnx>=1.6.0->onnx2pytorch) (1.26.4)\n",
            "Requirement already satisfied: protobuf>=3.20.2 in /home/saimadhavang/.local/lib/python3.10/site-packages (from onnx>=1.6.0->onnx2pytorch) (5.26.1)\n",
            "Requirement already satisfied: nvidia-cuda-cupti-cu12==12.1.105 in /home/saimadhavang/.local/lib/python3.10/site-packages (from torch>=1.4.0->onnx2pytorch) (12.1.105)\n",
            "Requirement already satisfied: networkx in /home/saimadhavang/.local/lib/python3.10/site-packages (from torch>=1.4.0->onnx2pytorch) (3.3)\n",
            "Requirement already satisfied: nvidia-cudnn-cu12==8.9.2.26 in /home/saimadhavang/.local/lib/python3.10/site-packages (from torch>=1.4.0->onnx2pytorch) (8.9.2.26)\n",
            "Requirement already satisfied: nvidia-nccl-cu12==2.20.5 in /home/saimadhavang/.local/lib/python3.10/site-packages (from torch>=1.4.0->onnx2pytorch) (2.20.5)\n",
            "Requirement already satisfied: nvidia-nvtx-cu12==12.1.105 in /home/saimadhavang/.local/lib/python3.10/site-packages (from torch>=1.4.0->onnx2pytorch) (12.1.105)\n",
            "Requirement already satisfied: jinja2 in /home/saimadhavang/.local/lib/python3.10/site-packages (from torch>=1.4.0->onnx2pytorch) (3.1.4)\n",
            "Requirement already satisfied: sympy in /home/saimadhavang/.local/lib/python3.10/site-packages (from torch>=1.4.0->onnx2pytorch) (1.12)\n",
            "Requirement already satisfied: triton==2.3.0 in /home/saimadhavang/.local/lib/python3.10/site-packages (from torch>=1.4.0->onnx2pytorch) (2.3.0)\n",
            "Requirement already satisfied: nvidia-curand-cu12==10.3.2.106 in /home/saimadhavang/.local/lib/python3.10/site-packages (from torch>=1.4.0->onnx2pytorch) (10.3.2.106)\n",
            "Requirement already satisfied: nvidia-cusolver-cu12==11.4.5.107 in /home/saimadhavang/.local/lib/python3.10/site-packages (from torch>=1.4.0->onnx2pytorch) (11.4.5.107)\n",
            "Requirement already satisfied: nvidia-cusparse-cu12==12.1.0.106 in /home/saimadhavang/.local/lib/python3.10/site-packages (from torch>=1.4.0->onnx2pytorch) (12.1.0.106)\n",
            "Requirement already satisfied: nvidia-cublas-cu12==12.1.3.1 in /home/saimadhavang/.local/lib/python3.10/site-packages (from torch>=1.4.0->onnx2pytorch) (12.1.3.1)\n",
            "Requirement already satisfied: nvidia-cuda-nvrtc-cu12==12.1.105 in /home/saimadhavang/.local/lib/python3.10/site-packages (from torch>=1.4.0->onnx2pytorch) (12.1.105)\n",
            "Requirement already satisfied: fsspec in /home/saimadhavang/.local/lib/python3.10/site-packages (from torch>=1.4.0->onnx2pytorch) (2024.3.1)\n",
            "Requirement already satisfied: nvidia-cuda-runtime-cu12==12.1.105 in /home/saimadhavang/.local/lib/python3.10/site-packages (from torch>=1.4.0->onnx2pytorch) (12.1.105)\n",
            "Requirement already satisfied: nvidia-cufft-cu12==11.0.2.54 in /home/saimadhavang/.local/lib/python3.10/site-packages (from torch>=1.4.0->onnx2pytorch) (11.0.2.54)\n",
            "Requirement already satisfied: filelock in /home/saimadhavang/.local/lib/python3.10/site-packages (from torch>=1.4.0->onnx2pytorch) (3.14.0)\n",
            "Requirement already satisfied: typing-extensions>=4.8.0 in /home/saimadhavang/.local/lib/python3.10/site-packages (from torch>=1.4.0->onnx2pytorch) (4.11.0)\n",
            "Requirement already satisfied: nvidia-nvjitlink-cu12 in /home/saimadhavang/.local/lib/python3.10/site-packages (from nvidia-cusolver-cu12==11.4.5.107->torch>=1.4.0->onnx2pytorch) (12.4.127)\n",
            "Requirement already satisfied: pillow!=8.3.*,>=5.3.0 in /home/saimadhavang/.local/lib/python3.10/site-packages (from torchvision>=0.9.0->onnx2pytorch) (10.3.0)\n",
            "Requirement already satisfied: MarkupSafe>=2.0 in /home/saimadhavang/.local/lib/python3.10/site-packages (from jinja2->torch>=1.4.0->onnx2pytorch) (2.1.5)\n",
            "Requirement already satisfied: mpmath>=0.19 in /home/saimadhavang/.local/lib/python3.10/site-packages (from sympy->torch>=1.4.0->onnx2pytorch) (1.3.0)\n",
            "Installing collected packages: onnx2pytorch\n",
            "Successfully installed onnx2pytorch-0.4.1\n",
            "Defaulting to user installation because normal site-packages is not writeable\n",
            "Requirement already satisfied: maraboupy in /home/saimadhavang/.local/lib/python3.10/site-packages (2.0.0)\n"
          ]
        },
        {
          "name": "stderr",
          "output_type": "stream",
          "text": [
            "/home/saimadhavang/.local/lib/python3.10/site-packages/tqdm/auto.py:21: TqdmWarning: IProgress not found. Please update jupyter and ipywidgets. See https://ipywidgets.readthedocs.io/en/stable/user_install.html\n",
            "  from .autonotebook import tqdm as notebook_tqdm\n"
          ]
        }
      ],
      "source": [
        "import torch\n",
        "import torch.nn as nn\n",
        "import sklearn\n",
        "import torch.optim as optim\n",
        "from sklearn.datasets import load_iris\n",
        "from sklearn.datasets import fetch_covtype\n",
        "from sklearn.model_selection import train_test_split\n",
        "from sklearn.preprocessing import StandardScaler\n",
        "from sklearn.preprocessing import MinMaxScaler\n",
        "from torch.utils.data import DataLoader, TensorDataset\n",
        "import numpy as np\n",
        "from sklearn.datasets import load_breast_cancer\n",
        "import onnx\n",
        "import json\n",
        "from onnx2pytorch import ConvertModel"
      ]
    },
    {
      "cell_type": "code",
      "execution_count": 2,
      "metadata": {
        "id": "2WNl2l9Gs0_q"
      },
      "outputs": [
        {
          "name": "stdout",
          "output_type": "stream",
          "text": [
            "Downloading http://yann.lecun.com/exdb/mnist/train-images-idx3-ubyte.gz\n",
            "Failed to download (trying next):\n",
            "HTTP Error 403: Forbidden\n",
            "\n",
            "Downloading https://ossci-datasets.s3.amazonaws.com/mnist/train-images-idx3-ubyte.gz\n",
            "Downloading https://ossci-datasets.s3.amazonaws.com/mnist/train-images-idx3-ubyte.gz to ./data/MNIST/raw/train-images-idx3-ubyte.gz\n"
          ]
        },
        {
          "name": "stderr",
          "output_type": "stream",
          "text": [
            "100%|██████████| 9912422/9912422 [00:01<00:00, 9015768.43it/s] \n"
          ]
        },
        {
          "name": "stdout",
          "output_type": "stream",
          "text": [
            "Extracting ./data/MNIST/raw/train-images-idx3-ubyte.gz to ./data/MNIST/raw\n",
            "\n",
            "Downloading http://yann.lecun.com/exdb/mnist/train-labels-idx1-ubyte.gz\n",
            "Failed to download (trying next):\n",
            "HTTP Error 403: Forbidden\n",
            "\n",
            "Downloading https://ossci-datasets.s3.amazonaws.com/mnist/train-labels-idx1-ubyte.gz\n",
            "Downloading https://ossci-datasets.s3.amazonaws.com/mnist/train-labels-idx1-ubyte.gz to ./data/MNIST/raw/train-labels-idx1-ubyte.gz\n"
          ]
        },
        {
          "name": "stderr",
          "output_type": "stream",
          "text": [
            "100%|██████████| 28881/28881 [00:00<00:00, 675275.77it/s]\n"
          ]
        },
        {
          "name": "stdout",
          "output_type": "stream",
          "text": [
            "Extracting ./data/MNIST/raw/train-labels-idx1-ubyte.gz to ./data/MNIST/raw\n",
            "\n",
            "Downloading http://yann.lecun.com/exdb/mnist/t10k-images-idx3-ubyte.gz\n",
            "Failed to download (trying next):\n",
            "HTTP Error 403: Forbidden\n",
            "\n",
            "Downloading https://ossci-datasets.s3.amazonaws.com/mnist/t10k-images-idx3-ubyte.gz\n",
            "Downloading https://ossci-datasets.s3.amazonaws.com/mnist/t10k-images-idx3-ubyte.gz to ./data/MNIST/raw/t10k-images-idx3-ubyte.gz\n"
          ]
        },
        {
          "name": "stderr",
          "output_type": "stream",
          "text": [
            "100%|██████████| 1648877/1648877 [00:00<00:00, 7357918.34it/s]\n"
          ]
        },
        {
          "name": "stdout",
          "output_type": "stream",
          "text": [
            "Extracting ./data/MNIST/raw/t10k-images-idx3-ubyte.gz to ./data/MNIST/raw\n",
            "\n",
            "Downloading http://yann.lecun.com/exdb/mnist/t10k-labels-idx1-ubyte.gz\n",
            "Failed to download (trying next):\n",
            "HTTP Error 403: Forbidden\n",
            "\n",
            "Downloading https://ossci-datasets.s3.amazonaws.com/mnist/t10k-labels-idx1-ubyte.gz\n",
            "Downloading https://ossci-datasets.s3.amazonaws.com/mnist/t10k-labels-idx1-ubyte.gz to ./data/MNIST/raw/t10k-labels-idx1-ubyte.gz\n"
          ]
        },
        {
          "name": "stderr",
          "output_type": "stream",
          "text": [
            "100%|██████████| 4542/4542 [00:00<00:00, 5513901.24it/s]"
          ]
        },
        {
          "name": "stdout",
          "output_type": "stream",
          "text": [
            "Extracting ./data/MNIST/raw/t10k-labels-idx1-ubyte.gz to ./data/MNIST/raw\n",
            "\n"
          ]
        },
        {
          "name": "stderr",
          "output_type": "stream",
          "text": [
            "\n"
          ]
        }
      ],
      "source": [
        "import torch\n",
        "import torch.nn as nn\n",
        "from torch.utils.data import DataLoader\n",
        "from torchvision import datasets, transforms\n",
        "import numpy as np\n",
        "import onnx\n",
        "from onnx2pytorch import ConvertModel\n",
        "\n",
        "TRAIN_BS = 32\n",
        "TEST_BS = 32\n",
        "\n",
        "device = torch.device('cuda' if torch.cuda.is_available() else 'cpu')\n",
        "\n",
        "transform=transforms.Compose([\n",
        "        transforms.ToTensor(),\n",
        "        transforms.Normalize((0.1307,), (0.3081,))\n",
        "        ])\n",
        "\n",
        "DLD_DATA = True\n",
        "train_set = datasets.MNIST('./data', train=True, download=DLD_DATA,\n",
        "                          transform=transform)\n",
        "test_set = datasets.MNIST('./data', train=False, download=DLD_DATA,\n",
        "                          transform=transform)\n",
        "X_train_tensor = train_set.data\n",
        "y_train_tensor = train_set.targets\n",
        "X_test_tensor = test_set.data\n",
        "y_test_tensor = test_set.targets\n",
        "train_loader = DataLoader(train_set, batch_size=1, shuffle=True)\n",
        "test_loader = DataLoader(test_set, batch_size=1, shuffle=True)\n",
        "num_labels = len(np.unique(test_set.targets))\n",
        "num_inputs = len(X_train_tensor[0])"
      ]
    },
    {
      "cell_type": "code",
      "execution_count": 3,
      "metadata": {
        "id": "1Kq72Vnu6Nf5"
      },
      "outputs": [
        {
          "name": "stderr",
          "output_type": "stream",
          "text": [
            "/home/saimadhavang/.local/lib/python3.10/site-packages/onnx2pytorch/convert/layer.py:30: UserWarning: The given NumPy array is not writable, and PyTorch does not support non-writable tensors. This means writing to this tensor will result in undefined behavior. You may want to copy the array to protect its data or make it writable before converting it to a tensor. This type of warning will be suppressed for the rest of this program. (Triggered internally at ../torch/csrc/utils/tensor_numpy.cpp:206.)\n",
            "  layer.weight.data = torch.from_numpy(numpy_helper.to_array(weight))\n"
          ]
        }
      ],
      "source": [
        "model = ConvertModel(onnx.load('mnist-net_256x4.onnx'))"
      ]
    },
    {
      "cell_type": "code",
      "execution_count": 5,
      "metadata": {
        "colab": {
          "base_uri": "https://localhost:8080/"
        },
        "id": "_kp-u-xFmXK8",
        "outputId": "6585fe90-28a0-43a2-84f6-563b171a048a"
      },
      "outputs": [
        {
          "ename": "NameError",
          "evalue": "name 'get_relu_activations' is not defined",
          "output_type": "error",
          "traceback": [
            "\u001b[0;31m---------------------------------------------------------------------------\u001b[0m",
            "\u001b[0;31mNameError\u001b[0m                                 Traceback (most recent call last)",
            "Cell \u001b[0;32mIn[5], line 20\u001b[0m\n\u001b[1;32m     18\u001b[0m       t\u001b[38;5;241m=\u001b[39mt\u001b[38;5;241m.\u001b[39mitem()\n\u001b[1;32m     19\u001b[0m       i\u001b[38;5;241m=\u001b[39mi\u001b[38;5;241m.\u001b[39mfloat()\u001b[38;5;241m.\u001b[39mto(device)\n\u001b[0;32m---> 20\u001b[0m       out\u001b[38;5;241m=\u001b[39m\u001b[43mget_relu_activations\u001b[49m(model,i)\n\u001b[1;32m     21\u001b[0m       states[t]\u001b[38;5;241m.\u001b[39mappend(out\u001b[38;5;241m.\u001b[39mdetach()\u001b[38;5;241m.\u001b[39mcpu()\u001b[38;5;241m.\u001b[39mnumpy()\u001b[38;5;241m.\u001b[39mtolist())\n\u001b[1;32m     22\u001b[0m \u001b[38;5;28mprint\u001b[39m(\u001b[38;5;28mlen\u001b[39m(states))\n",
            "\u001b[0;31mNameError\u001b[0m: name 'get_relu_activations' is not defined"
          ]
        }
      ],
      "source": [
        "# images, labels = next(iter(train_loader))\n",
        "# images\n",
        "neurons=0\n",
        "relu_layers=0\n",
        "# Assuming the ReLU layers are named similarly to your PyTorch model, you can add hooks like this\n",
        "for name, layer in model.named_modules():\n",
        "  if isinstance(layer, nn.Linear):\n",
        "    neurons=layer.in_features\n",
        "  if isinstance(layer, torch.nn.ReLU):\n",
        "    relu_layers+=1\n",
        "\n",
        "states={}\n",
        "for i in range(num_labels):\n",
        "  states[i]=[]\n",
        "\n",
        "with torch.no_grad():\n",
        "  for i, t in train_loader:\n",
        "      t=t.item()\n",
        "      i=i.float().to(device)\n",
        "      out=get_relu_activations(model,i)\n",
        "      states[t].append(out.detach().cpu().numpy().tolist())\n",
        "print(len(states))\n",
        "print(len(states[0]))"
      ]
    },
    {
      "cell_type": "code",
      "execution_count": null,
      "metadata": {
        "id": "xebqZwqz3Qzo"
      },
      "outputs": [],
      "source": [
        "for i in states:\n",
        "  states[i]=np.array(states[i])\n",
        "label_naps = get_label_naps(states)"
      ]
    },
    {
      "cell_type": "code",
      "execution_count": null,
      "metadata": {
        "colab": {
          "base_uri": "https://localhost:8080/"
        },
        "id": "0oFeoEHeAHki",
        "outputId": "127f2006-7383-47de-9d17-f618e9bc7465"
      },
      "outputs": [
        {
          "name": "stderr",
          "output_type": "stream",
          "text": [
            "/usr/local/lib/python3.10/dist-packages/onnx2pytorch/convert/layer.py:30: UserWarning: The given NumPy array is not writable, and PyTorch does not support non-writable tensors. This means writing to this tensor will result in undefined behavior. You may want to copy the array to protect its data or make it writable before converting it to a tensor. This type of warning will be suppressed for the rest of this program. (Triggered internally at ../torch/csrc/utils/tensor_numpy.cpp:206.)\n",
            "  layer.weight.data = torch.from_numpy(numpy_helper.to_array(weight))\n"
          ]
        }
      ],
      "source": [
        "i=0\n",
        "neurons=0\n",
        "# Assuming the ReLU layers are named similarly to your PyTorch model, you can add hooks like this\n",
        "for name, layer in model.named_modules():\n",
        "  if isinstance(layer, nn.Linear):\n",
        "    neurons=layer.in_features\n",
        "  if isinstance(layer, torch.nn.ReLU):\n",
        "      i=i+1\n",
        "relu_layers=i"
      ]
    }
  ],
  "metadata": {
    "colab": {
      "machine_shape": "hm",
      "provenance": []
    },
    "kernelspec": {
      "display_name": "Python 3",
      "name": "python3"
    },
    "language_info": {
      "codemirror_mode": {
        "name": "ipython",
        "version": 3
      },
      "file_extension": ".py",
      "mimetype": "text/x-python",
      "name": "python",
      "nbconvert_exporter": "python",
      "pygments_lexer": "ipython3",
      "version": "3.10.12"
    }
  },
  "nbformat": 4,
  "nbformat_minor": 0
}
