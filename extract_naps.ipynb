{
 "cells": [
  {
   "cell_type": "code",
   "execution_count": 29,
   "metadata": {},
   "outputs": [],
   "source": [
    "import torch\n",
    "import onnx\n",
    "import onnxruntime as ort\n",
    "import numpy as np\n",
    "from tqdm.auto import tqdm\n",
    "import json\n",
    "from numpyencoder import NumpyEncoder"
   ]
  },
  {
   "cell_type": "code",
   "execution_count": 19,
   "metadata": {},
   "outputs": [],
   "source": [
    "# Global Configs\n",
    "\n",
    "DELTA = 1\n",
    "NET_PATH = \"./mnist-net_256x4.onnx\"\n",
    "DATA = torch.load(\"./dataset/training.pt\")\n",
    "LAYERS = 4\n",
    "EXPT_NAME = \"256x4_delta1\""
   ]
  },
  {
   "cell_type": "code",
   "execution_count": 3,
   "metadata": {},
   "outputs": [],
   "source": [
    "# Data preprocessing\n",
    "\n",
    "imgs = DATA[0]/255\n",
    "imgs = imgs.reshape(60000, 1, 784, 1).numpy()"
   ]
  },
  {
   "cell_type": "code",
   "execution_count": 4,
   "metadata": {},
   "outputs": [
    {
     "name": "stdout",
     "output_type": "stream",
     "text": [
      "graph torch-jit-export (\n",
      "  %0[FLOAT, 1x784x1]\n",
      ") initializers (\n",
      "  %layers.0.bias[FLOAT, 256]\n",
      "  %layers.0.weight[FLOAT, 256x784]\n",
      "  %layers.2.bias[FLOAT, 256]\n",
      "  %layers.2.weight[FLOAT, 256x256]\n",
      "  %layers.4.bias[FLOAT, 256]\n",
      "  %layers.4.weight[FLOAT, 256x256]\n",
      "  %layers.6.bias[FLOAT, 256]\n",
      "  %layers.6.weight[FLOAT, 256x256]\n",
      "  %layers.8.bias[FLOAT, 10]\n",
      "  %layers.8.weight[FLOAT, 10x256]\n",
      ") {\n",
      "  %11 = Flatten[axis = 1](%0)\n",
      "  %12 = Gemm[alpha = 1, beta = 1, transB = 1](%11, %layers.0.weight, %layers.0.bias)\n",
      "  %13 = Relu(%12)\n",
      "  %14 = Gemm[alpha = 1, beta = 1, transB = 1](%13, %layers.2.weight, %layers.2.bias)\n",
      "  %15 = Relu(%14)\n",
      "  %16 = Gemm[alpha = 1, beta = 1, transB = 1](%15, %layers.4.weight, %layers.4.bias)\n",
      "  %17 = Relu(%16)\n",
      "  %18 = Gemm[alpha = 1, beta = 1, transB = 1](%17, %layers.6.weight, %layers.6.bias)\n",
      "  %19 = Relu(%18)\n",
      "  %20 = Gemm[alpha = 1, beta = 1, transB = 1](%19, %layers.8.weight, %layers.8.bias)\n",
      "  return %20\n",
      "}\n"
     ]
    }
   ],
   "source": [
    "# Modifying model to get neuron activations\n",
    "\n",
    "model = onnx.load(NET_PATH)\n",
    "\n",
    "def add_intermediate_outputs(model):\n",
    "    graph = model.graph\n",
    "    for node in graph.node:\n",
    "        if node.op_type == \"Relu\":\n",
    "            for output in node.output:\n",
    "                intermediate_value_info = onnx.helper.make_tensor_value_info(output, onnx.TensorProto.FLOAT, None)\n",
    "                graph.output.append(intermediate_value_info)\n",
    "    return model\n",
    "\n",
    "modified_model = add_intermediate_outputs(model)\n",
    "\n",
    "modified_model_path = f'{NET_PATH.split(\".\")[1][1:]}_modified.onnx'\n",
    "onnx.save(modified_model, modified_model_path)\n"
   ]
  },
  {
   "cell_type": "code",
   "execution_count": 5,
   "metadata": {},
   "outputs": [],
   "source": [
    "# Setting up inference in onnx\n",
    "\n",
    "session = ort.InferenceSession(modified_model_path)\n",
    "input_name = session.get_inputs()[0].name"
   ]
  },
  {
   "cell_type": "code",
   "execution_count": 16,
   "metadata": {},
   "outputs": [
    {
     "name": "stdout",
     "output_type": "stream",
     "text": [
      "Processing label 0...\n"
     ]
    },
    {
     "name": "stderr",
     "output_type": "stream",
     "text": [
      "100%|██████████| 5923/5923 [00:00<00:00, 24033.25it/s]\n"
     ]
    },
    {
     "name": "stdout",
     "output_type": "stream",
     "text": [
      "Processing label 1...\n"
     ]
    },
    {
     "name": "stderr",
     "output_type": "stream",
     "text": [
      "100%|██████████| 6742/6742 [00:00<00:00, 25504.12it/s]\n"
     ]
    },
    {
     "name": "stdout",
     "output_type": "stream",
     "text": [
      "Processing label 2...\n"
     ]
    },
    {
     "name": "stderr",
     "output_type": "stream",
     "text": [
      "100%|██████████| 5958/5958 [00:00<00:00, 25183.22it/s]\n"
     ]
    },
    {
     "name": "stdout",
     "output_type": "stream",
     "text": [
      "Processing label 3...\n"
     ]
    },
    {
     "name": "stderr",
     "output_type": "stream",
     "text": [
      "100%|██████████| 6131/6131 [00:00<00:00, 24704.23it/s]\n"
     ]
    },
    {
     "name": "stdout",
     "output_type": "stream",
     "text": [
      "Processing label 4...\n"
     ]
    },
    {
     "name": "stderr",
     "output_type": "stream",
     "text": [
      "100%|██████████| 5842/5842 [00:00<00:00, 23116.72it/s]\n"
     ]
    },
    {
     "name": "stdout",
     "output_type": "stream",
     "text": [
      "Processing label 5...\n"
     ]
    },
    {
     "name": "stderr",
     "output_type": "stream",
     "text": [
      "100%|██████████| 5421/5421 [00:00<00:00, 21979.09it/s]\n"
     ]
    },
    {
     "name": "stdout",
     "output_type": "stream",
     "text": [
      "Processing label 6...\n"
     ]
    },
    {
     "name": "stderr",
     "output_type": "stream",
     "text": [
      "100%|██████████| 5918/5918 [00:00<00:00, 24214.33it/s]\n"
     ]
    },
    {
     "name": "stdout",
     "output_type": "stream",
     "text": [
      "Processing label 7...\n"
     ]
    },
    {
     "name": "stderr",
     "output_type": "stream",
     "text": [
      "100%|██████████| 6265/6265 [00:00<00:00, 22706.75it/s]\n"
     ]
    },
    {
     "name": "stdout",
     "output_type": "stream",
     "text": [
      "Processing label 8...\n"
     ]
    },
    {
     "name": "stderr",
     "output_type": "stream",
     "text": [
      "100%|██████████| 5851/5851 [00:00<00:00, 22693.17it/s]\n"
     ]
    },
    {
     "name": "stdout",
     "output_type": "stream",
     "text": [
      "Processing label 9...\n"
     ]
    },
    {
     "name": "stderr",
     "output_type": "stream",
     "text": [
      "100%|██████████| 5949/5949 [00:00<00:00, 21749.78it/s]\n"
     ]
    }
   ],
   "source": [
    "# Going through each label\n",
    "P = {\n",
    "    'config':\n",
    "    {\n",
    "        'net': NET_PATH,\n",
    "        'delta': DELTA,\n",
    "        'data_len': DATA[1].shape[0]\n",
    "    }\n",
    "}\n",
    "\n",
    "for label in range(10):\n",
    "    # Filetering relevant data alone\n",
    "    mask = (DATA[1] == label).numpy()\n",
    "    S = imgs[mask]\n",
    "\n",
    "    # Initializing a counter\n",
    "    count = np.zeros((LAYERS, 256))\n",
    "\n",
    "    # Counting across relevant data\n",
    "    print(f\"Processing label {label}...\")\n",
    "\n",
    "    for example in tqdm(S):\n",
    "        outputs = session.run(None, {input_name: example})\n",
    "        neuron_activations = np.concatenate(outputs[1:])\n",
    "        whether_activated = neuron_activations > 0\n",
    "        count += whether_activated\n",
    "\n",
    "    # Adding neuron indices in A or D based on whether their fr (frequency ratio) is greater than or lesser than delta\n",
    "    fr = count / S.shape[0]\n",
    "    greater_than_delta = np.where(fr>=DELTA)\n",
    "    lesser_than_delta = np.where(fr<(1-DELTA))\n",
    "    A = list(zip(greater_than_delta[0], greater_than_delta[1]))\n",
    "    D = list(zip(lesser_than_delta[0], lesser_than_delta[1]))\n",
    "    \n",
    "    P[label] = {\n",
    "        \"A\":\n",
    "        {\n",
    "            \"len\": len(A),\n",
    "            \"indices\": A\n",
    "        },\n",
    "        \"B\": {\n",
    "            \"len\": len(D),\n",
    "            \"indices\": D\n",
    "        }\n",
    "    }"
   ]
  },
  {
   "cell_type": "code",
   "execution_count": 31,
   "metadata": {},
   "outputs": [],
   "source": [
    "# Writing it out into a file\n",
    "\n",
    "with open(f\"./NAPs/{EXPT_NAME}.json\", \"w\") as f:\n",
    "    json.dump(P, f, cls=NumpyEncoder)"
   ]
  },
  {
   "cell_type": "code",
   "execution_count": null,
   "metadata": {},
   "outputs": [],
   "source": []
  }
 ],
 "metadata": {
  "kernelspec": {
   "display_name": "Python 3",
   "language": "python",
   "name": "python3"
  },
  "language_info": {
   "codemirror_mode": {
    "name": "ipython",
    "version": 3
   },
   "file_extension": ".py",
   "mimetype": "text/x-python",
   "name": "python",
   "nbconvert_exporter": "python",
   "pygments_lexer": "ipython3",
   "version": "3.10.12"
  }
 },
 "nbformat": 4,
 "nbformat_minor": 2
}
