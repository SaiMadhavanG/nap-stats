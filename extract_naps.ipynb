{
 "cells": [
  {
   "cell_type": "code",
   "execution_count": 1,
   "metadata": {},
   "outputs": [],
   "source": [
    "import torch\n",
    "import onnx\n",
    "import onnxruntime as ort\n",
    "import numpy as np\n",
    "from tqdm.auto import tqdm\n",
    "import json\n",
    "from numpyencoder import NumpyEncoder\n",
    "from torchvision import transforms, datasets\n",
    "from torch.utils.data import DataLoader"
   ]
  },
  {
   "cell_type": "code",
   "execution_count": 2,
   "metadata": {},
   "outputs": [],
   "source": [
    "# Global Configs\n",
    "DELTA = 0.99\n",
    "NET_PATH = \"./64x4_scratch.onnx\"\n",
    "DATA = torch.load(\"./dataset/training.pt\")\n",
    "EXPT_NAME = \"64x4_scratch_d99\"\n",
    "LAYERS = 4\n",
    "NEURONS_WIDTH = 64"
   ]
  },
  {
   "cell_type": "code",
   "execution_count": 3,
   "metadata": {},
   "outputs": [],
   "source": [
    "# Data preprocessing\n",
    "\n",
    "transform = transforms.Compose([\n",
    "    transforms.ToTensor(),\n",
    "    transforms.Normalize((0.,), (1.,))\n",
    "])\n",
    "\n",
    "trainset = datasets.MNIST(root='./data', train=True, download=True, transform=transform)\n",
    "trainloader = DataLoader(trainset, batch_size=50000, shuffle=False)\n",
    "\n",
    "imgs, labels = next(iter(trainloader))"
   ]
  },
  {
   "cell_type": "code",
   "execution_count": 6,
   "metadata": {},
   "outputs": [
    {
     "name": "stdout",
     "output_type": "stream",
     "text": [
      "Node name: /2/Relu\n",
      "Node name: /4/Relu\n",
      "Node name: /6/Relu\n",
      "Node name: /8/Relu\n"
     ]
    }
   ],
   "source": [
    "# Modifying model to get neuron activations\n",
    "\n",
    "model = onnx.load(NET_PATH)\n",
    "\n",
    "def add_intermediate_outputs(model):\n",
    "    graph = model.graph\n",
    "    for node in graph.node:\n",
    "        if node.op_type == \"Relu\":\n",
    "            for output in node.output:\n",
    "                intermediate_value_info = onnx.helper.make_tensor_value_info(output, onnx.TensorProto.FLOAT, None)\n",
    "                graph.output.append(intermediate_value_info)\n",
    "    return model\n",
    "\n",
    "modified_model = add_intermediate_outputs(model)\n",
    "\n",
    "modified_model_path = f'{NET_PATH.split(\".\")[1][1:]}_modified.onnx'\n",
    "onnx.save(modified_model, modified_model_path)\n"
   ]
  },
  {
   "cell_type": "code",
   "execution_count": 14,
   "metadata": {},
   "outputs": [],
   "source": [
    "# Setting up inference in onnx\n",
    "\n",
    "session = ort.InferenceSession(modified_model_path)\n",
    "input_name = session.get_inputs()[0].name"
   ]
  },
  {
   "cell_type": "code",
   "execution_count": 15,
   "metadata": {},
   "outputs": [],
   "source": [
    "# Going through each label\n",
    "P = {\n",
    "    'config':\n",
    "    {\n",
    "        'net': NET_PATH,\n",
    "        'delta': DELTA,\n",
    "        'data_len': DATA[1].shape[0]\n",
    "    }\n",
    "}"
   ]
  },
  {
   "cell_type": "code",
   "execution_count": 16,
   "metadata": {},
   "outputs": [
    {
     "name": "stdout",
     "output_type": "stream",
     "text": [
      "Processing label 0...\n"
     ]
    },
    {
     "data": {
      "application/vnd.jupyter.widget-view+json": {
       "model_id": "bca541144560484aa3a8221f9bdc67d7",
       "version_major": 2,
       "version_minor": 0
      },
      "text/plain": [
       "  0%|          | 0/4932 [00:00<?, ?it/s]"
      ]
     },
     "metadata": {},
     "output_type": "display_data"
    },
    {
     "name": "stdout",
     "output_type": "stream",
     "text": [
      "Processing label 1...\n"
     ]
    },
    {
     "data": {
      "application/vnd.jupyter.widget-view+json": {
       "model_id": "1db662ff2ea9435988ac1575ba672b1e",
       "version_major": 2,
       "version_minor": 0
      },
      "text/plain": [
       "  0%|          | 0/5678 [00:00<?, ?it/s]"
      ]
     },
     "metadata": {},
     "output_type": "display_data"
    },
    {
     "name": "stdout",
     "output_type": "stream",
     "text": [
      "Processing label 2...\n"
     ]
    },
    {
     "data": {
      "application/vnd.jupyter.widget-view+json": {
       "model_id": "a7a190eb854846babcccb8d6719c74b1",
       "version_major": 2,
       "version_minor": 0
      },
      "text/plain": [
       "  0%|          | 0/4968 [00:00<?, ?it/s]"
      ]
     },
     "metadata": {},
     "output_type": "display_data"
    },
    {
     "name": "stdout",
     "output_type": "stream",
     "text": [
      "Processing label 3...\n"
     ]
    },
    {
     "data": {
      "application/vnd.jupyter.widget-view+json": {
       "model_id": "3e36ab95fdb54219b1beb0e0cef0a9e6",
       "version_major": 2,
       "version_minor": 0
      },
      "text/plain": [
       "  0%|          | 0/5101 [00:00<?, ?it/s]"
      ]
     },
     "metadata": {},
     "output_type": "display_data"
    },
    {
     "name": "stdout",
     "output_type": "stream",
     "text": [
      "Processing label 4...\n"
     ]
    },
    {
     "data": {
      "application/vnd.jupyter.widget-view+json": {
       "model_id": "5e9ffa9bed914f9a8f5c8449b5fb9162",
       "version_major": 2,
       "version_minor": 0
      },
      "text/plain": [
       "  0%|          | 0/4859 [00:00<?, ?it/s]"
      ]
     },
     "metadata": {},
     "output_type": "display_data"
    },
    {
     "name": "stdout",
     "output_type": "stream",
     "text": [
      "Processing label 5...\n"
     ]
    },
    {
     "data": {
      "application/vnd.jupyter.widget-view+json": {
       "model_id": "08973f9e8ae0439494d5e8894fb1e628",
       "version_major": 2,
       "version_minor": 0
      },
      "text/plain": [
       "  0%|          | 0/4506 [00:00<?, ?it/s]"
      ]
     },
     "metadata": {},
     "output_type": "display_data"
    },
    {
     "name": "stdout",
     "output_type": "stream",
     "text": [
      "Processing label 6...\n"
     ]
    },
    {
     "data": {
      "application/vnd.jupyter.widget-view+json": {
       "model_id": "12c1068eeff64b7ab3c3f8709f22296d",
       "version_major": 2,
       "version_minor": 0
      },
      "text/plain": [
       "  0%|          | 0/4951 [00:00<?, ?it/s]"
      ]
     },
     "metadata": {},
     "output_type": "display_data"
    },
    {
     "name": "stdout",
     "output_type": "stream",
     "text": [
      "Processing label 7...\n"
     ]
    },
    {
     "data": {
      "application/vnd.jupyter.widget-view+json": {
       "model_id": "87ac817e583740ed9d0ca398faf8000e",
       "version_major": 2,
       "version_minor": 0
      },
      "text/plain": [
       "  0%|          | 0/5175 [00:00<?, ?it/s]"
      ]
     },
     "metadata": {},
     "output_type": "display_data"
    },
    {
     "name": "stdout",
     "output_type": "stream",
     "text": [
      "Processing label 8...\n"
     ]
    },
    {
     "data": {
      "application/vnd.jupyter.widget-view+json": {
       "model_id": "d2c441f0159c4ba38781a65979573813",
       "version_major": 2,
       "version_minor": 0
      },
      "text/plain": [
       "  0%|          | 0/4842 [00:00<?, ?it/s]"
      ]
     },
     "metadata": {},
     "output_type": "display_data"
    },
    {
     "name": "stdout",
     "output_type": "stream",
     "text": [
      "Processing label 9...\n"
     ]
    },
    {
     "data": {
      "application/vnd.jupyter.widget-view+json": {
       "model_id": "4c9cf4a00a5a4dc6b8a48e30cda4b6d4",
       "version_major": 2,
       "version_minor": 0
      },
      "text/plain": [
       "  0%|          | 0/4988 [00:00<?, ?it/s]"
      ]
     },
     "metadata": {},
     "output_type": "display_data"
    }
   ],
   "source": [
    "for label in range(10):\n",
    "    # Filetering relevant data alone\n",
    "    mask = (labels == label).numpy()\n",
    "    S = imgs[mask]\n",
    "\n",
    "    # Initializing a counter\n",
    "    count = np.zeros((4, 64))\n",
    "\n",
    "    # Counting across relevant data\n",
    "    print(f\"Processing label {label}...\")\n",
    "\n",
    "    for example in tqdm(S):\n",
    "        outputs = session.run(None, {input_name: example.numpy().reshape(1, 1, 28, 28)})\n",
    "        neuron_activations = np.concatenate(outputs[1:])\n",
    "        whether_activated = neuron_activations > 0\n",
    "        count += whether_activated\n",
    "\n",
    "    # Adding neuron indices in A or D based on whether their fr (frequency ratio) is greater than or lesser than delta\n",
    "    fr = count / S.shape[0]\n",
    "    greater_than_delta = np.where(fr>=DELTA)\n",
    "    lesser_than_delta = np.where(fr<(1-DELTA))\n",
    "    A = list(zip(greater_than_delta[0], greater_than_delta[1]))\n",
    "    D = list(zip(lesser_than_delta[0], lesser_than_delta[1]))\n",
    "    \n",
    "    P[label] = {\n",
    "        \"A\":\n",
    "        {\n",
    "            \"len\": len(A),\n",
    "            \"indices\": A\n",
    "        },\n",
    "        \"D\": {\n",
    "            \"len\": len(D),\n",
    "            \"indices\": D\n",
    "        }\n",
    "    }"
   ]
  },
  {
   "cell_type": "code",
   "execution_count": 17,
   "metadata": {},
   "outputs": [],
   "source": [
    "# Writing it out into a file\n",
    "\n",
    "with open(f\"./NAPs/{EXPT_NAME}.json\", \"w\") as f:\n",
    "    json.dump(P, f, cls=NumpyEncoder)"
   ]
  },
  {
   "cell_type": "code",
   "execution_count": 18,
   "metadata": {},
   "outputs": [
    {
     "ename": "NameError",
     "evalue": "name 'LAYERS' is not defined",
     "output_type": "error",
     "traceback": [
      "\u001b[0;31m---------------------------------------------------------------------------\u001b[0m",
      "\u001b[0;31mNameError\u001b[0m                                 Traceback (most recent call last)",
      "Cell \u001b[0;32mIn[18], line 3\u001b[0m\n\u001b[1;32m      1\u001b[0m \u001b[38;5;66;03m# Getting global heatmap\u001b[39;00m\n\u001b[0;32m----> 3\u001b[0m global_count \u001b[38;5;241m=\u001b[39m np\u001b[38;5;241m.\u001b[39mzeros((\u001b[43mLAYERS\u001b[49m, \u001b[38;5;241m256\u001b[39m))\n\u001b[1;32m      5\u001b[0m \u001b[38;5;28;01mfor\u001b[39;00m example \u001b[38;5;129;01min\u001b[39;00m tqdm(imgs):\n\u001b[1;32m      6\u001b[0m         outputs \u001b[38;5;241m=\u001b[39m session\u001b[38;5;241m.\u001b[39mrun(\u001b[38;5;28;01mNone\u001b[39;00m, {input_name: example})\n",
      "\u001b[0;31mNameError\u001b[0m: name 'LAYERS' is not defined"
     ]
    }
   ],
   "source": [
    "# Getting global heatmap\n",
    "\n",
    "global_count = np.zeros((LAYERS, 256))\n",
    "\n",
    "for example in tqdm(imgs):\n",
    "        outputs = session.run(None, {input_name: example})\n",
    "        neuron_activations = np.concatenate(outputs[1:])\n",
    "        whether_activated = neuron_activations > 0\n",
    "        global_count += whether_activated"
   ]
  },
  {
   "cell_type": "code",
   "execution_count": null,
   "metadata": {},
   "outputs": [
    {
     "data": {
      "text/plain": [
       "array([[9.4090e+03, 2.7514e+04, 1.0390e+04, ..., 2.4576e+04, 1.6828e+04,\n",
       "        1.7754e+04],\n",
       "       [1.3963e+04, 0.0000e+00, 7.9690e+03, ..., 1.3339e+04, 1.6591e+04,\n",
       "        6.3980e+03],\n",
       "       [0.0000e+00, 0.0000e+00, 3.0000e+00, ..., 0.0000e+00, 1.2300e+02,\n",
       "        1.0000e+00],\n",
       "       [3.2000e+01, 1.0000e+00, 6.5750e+03, ..., 3.4100e+03, 1.0000e+01,\n",
       "        4.6260e+03]])"
      ]
     },
     "execution_count": 8,
     "metadata": {},
     "output_type": "execute_result"
    }
   ],
   "source": [
    "global_count"
   ]
  },
  {
   "cell_type": "code",
   "execution_count": null,
   "metadata": {},
   "outputs": [],
   "source": [
    "global_ratio = global_count/60000"
   ]
  },
  {
   "cell_type": "code",
   "execution_count": null,
   "metadata": {},
   "outputs": [
    {
     "data": {
      "text/plain": [
       "array([[1.56816667e-01, 4.58566667e-01, 1.73166667e-01, ...,\n",
       "        4.09600000e-01, 2.80466667e-01, 2.95900000e-01],\n",
       "       [2.32716667e-01, 0.00000000e+00, 1.32816667e-01, ...,\n",
       "        2.22316667e-01, 2.76516667e-01, 1.06633333e-01],\n",
       "       [0.00000000e+00, 0.00000000e+00, 5.00000000e-05, ...,\n",
       "        0.00000000e+00, 2.05000000e-03, 1.66666667e-05],\n",
       "       [5.33333333e-04, 1.66666667e-05, 1.09583333e-01, ...,\n",
       "        5.68333333e-02, 1.66666667e-04, 7.71000000e-02]])"
      ]
     },
     "execution_count": 10,
     "metadata": {},
     "output_type": "execute_result"
    }
   ],
   "source": [
    "global_ratio"
   ]
  },
  {
   "cell_type": "code",
   "execution_count": null,
   "metadata": {},
   "outputs": [],
   "source": [
    "import seaborn as sns"
   ]
  },
  {
   "cell_type": "code",
   "execution_count": null,
   "metadata": {},
   "outputs": [
    {
     "data": {
      "text/plain": [
       "<Axes: >"
      ]
     },
     "execution_count": 12,
     "metadata": {},
     "output_type": "execute_result"
    },
    {
     "data": {
      "image/png": "[encoded data removed]",
      "text/plain": [
       "<Figure size 640x480 with 2 Axes>"
      ]
     },
     "metadata": {},
     "output_type": "display_data"
    }
   ],
   "source": [
    "sns.heatmap(global_ratio)"
   ]
  },
  {
   "cell_type": "code",
   "execution_count": null,
   "metadata": {},
   "outputs": [
    {
     "data": {
      "application/vnd.jupyter.widget-view+json": {
       "model_id": "679bad3f14d84337a9bcca0c565a549c",
       "version_major": 2,
       "version_minor": 0
      },
      "text/plain": [
       "  0%|          | 0/60000 [00:00<?, ?it/s]"
      ]
     },
     "metadata": {},
     "output_type": "display_data"
    },
    {
     "data": {
      "text/plain": [
       "<Axes: >"
      ]
     },
     "execution_count": 11,
     "metadata": {},
     "output_type": "execute_result"
    },
    {
     "data": {
      "image/png": "[encoded data removed]",
      "text/plain": [
       "<Figure size 640x480 with 2 Axes>"
      ]
     },
     "metadata": {},
     "output_type": "display_data"
    }
   ],
   "source": [
    "# Getting global heatmap\n",
    "\n",
    "global_count = np.zeros((LAYERS, 256))\n",
    "\n",
    "for example in tqdm(imgs):\n",
    "        outputs = session.run(None, {input_name: example})\n",
    "        neuron_activations = np.concatenate(outputs[1:])\n",
    "        whether_activated = neuron_activations > 0\n",
    "        global_count += whether_activated\n",
    "global_count\n",
    "global_ratio = global_count/60000\n",
    "global_ratio\n",
    "import seaborn as sns\n",
    "sns.heatmap(global_ratio)"
   ]
  },
  {
   "cell_type": "code",
   "execution_count": null,
   "metadata": {},
   "outputs": [],
   "source": []
  }
 ],
 "metadata": {
  "kernelspec": {
   "display_name": "Python 3",
   "language": "python",
   "name": "python3"
  },
  "language_info": {
   "codemirror_mode": {
    "name": "ipython",
    "version": 3
   },
   "file_extension": ".py",
   "mimetype": "text/x-python",
   "name": "python",
   "nbconvert_exporter": "python",
   "pygments_lexer": "ipython3",
   "version": "3.10.12"
  }
 },
 "nbformat": 4,
 "nbformat_minor": 2
}
