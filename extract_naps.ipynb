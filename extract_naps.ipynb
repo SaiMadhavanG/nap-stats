{
 "cells": [
  {
   "cell_type": "code",
   "execution_count": 1,
   "metadata": {},
   "outputs": [],
   "source": [
    "import torch\n",
    "import onnx\n",
    "import onnxruntime as ort\n",
    "import numpy as np\n",
    "from tqdm.auto import tqdm\n",
    "import json\n",
    "from numpyencoder import NumpyEncoder"
   ]
  },
  {
   "cell_type": "code",
   "execution_count": 6,
   "metadata": {},
   "outputs": [],
   "source": [
    "# Global Configs\n",
    "\n",
    "DELTA = 0.99\n",
    "NET_PATH = \"./mnist-net_256x4.onnx\"\n",
    "DATA = torch.load(\"./dataset/training.pt\")\n",
    "LAYERS = 4\n",
    "EXPT_NAME = \"256x4_delta99_nt\""
   ]
  },
  {
   "cell_type": "code",
   "execution_count": 11,
   "metadata": {},
   "outputs": [],
   "source": [
    "# Data preprocessing\n",
    "\n",
    "imgs = torch.load(\"./dataset/normalized_train.pt\")\n",
    "imgs = imgs.reshape(60000, 1, 784, 1).numpy()\n",
    "\n",
    "DATA = (None, torch.load(\"./dataset/nt_targets.pt\"))"
   ]
  },
  {
   "cell_type": "code",
   "execution_count": 12,
   "metadata": {},
   "outputs": [],
   "source": [
    "# Modifying model to get neuron activations\n",
    "\n",
    "model = onnx.load(NET_PATH)\n",
    "\n",
    "def add_intermediate_outputs(model):\n",
    "    graph = model.graph\n",
    "    for node in graph.node:\n",
    "        if node.op_type == \"Relu\":\n",
    "            for output in node.output:\n",
    "                intermediate_value_info = onnx.helper.make_tensor_value_info(output, onnx.TensorProto.FLOAT, None)\n",
    "                graph.output.append(intermediate_value_info)\n",
    "    return model\n",
    "\n",
    "modified_model = add_intermediate_outputs(model)\n",
    "\n",
    "modified_model_path = f'{NET_PATH.split(\".\")[1][1:]}_modified.onnx'\n",
    "onnx.save(modified_model, modified_model_path)\n"
   ]
  },
  {
   "cell_type": "code",
   "execution_count": 13,
   "metadata": {},
   "outputs": [],
   "source": [
    "# Setting up inference in onnx\n",
    "\n",
    "session = ort.InferenceSession(modified_model_path)\n",
    "input_name = session.get_inputs()[0].name"
   ]
  },
  {
   "cell_type": "code",
   "execution_count": 14,
   "metadata": {},
   "outputs": [
    {
     "name": "stdout",
     "output_type": "stream",
     "text": [
      "Processing label 0...\n"
     ]
    },
    {
     "data": {
      "application/vnd.jupyter.widget-view+json": {
       "model_id": "b3b4847f05f34e55b33a45405c1869e7",
       "version_major": 2,
       "version_minor": 0
      },
      "text/plain": [
       "  0%|          | 0/5923 [00:00<?, ?it/s]"
      ]
     },
     "metadata": {},
     "output_type": "display_data"
    },
    {
     "name": "stdout",
     "output_type": "stream",
     "text": [
      "Processing label 1...\n"
     ]
    },
    {
     "data": {
      "application/vnd.jupyter.widget-view+json": {
       "model_id": "14795fcbf2db4d4b96e7fb4f05bd6bdc",
       "version_major": 2,
       "version_minor": 0
      },
      "text/plain": [
       "  0%|          | 0/6742 [00:00<?, ?it/s]"
      ]
     },
     "metadata": {},
     "output_type": "display_data"
    },
    {
     "name": "stdout",
     "output_type": "stream",
     "text": [
      "Processing label 2...\n"
     ]
    },
    {
     "data": {
      "application/vnd.jupyter.widget-view+json": {
       "model_id": "7968a85b22a1487b86292e19cb93f50c",
       "version_major": 2,
       "version_minor": 0
      },
      "text/plain": [
       "  0%|          | 0/5958 [00:00<?, ?it/s]"
      ]
     },
     "metadata": {},
     "output_type": "display_data"
    },
    {
     "name": "stdout",
     "output_type": "stream",
     "text": [
      "Processing label 3...\n"
     ]
    },
    {
     "data": {
      "application/vnd.jupyter.widget-view+json": {
       "model_id": "75ab8dc7b9224110aca3348e7235fa94",
       "version_major": 2,
       "version_minor": 0
      },
      "text/plain": [
       "  0%|          | 0/6131 [00:00<?, ?it/s]"
      ]
     },
     "metadata": {},
     "output_type": "display_data"
    },
    {
     "name": "stdout",
     "output_type": "stream",
     "text": [
      "Processing label 4...\n"
     ]
    },
    {
     "data": {
      "application/vnd.jupyter.widget-view+json": {
       "model_id": "b4d80c211927443a97a312f8a25b131d",
       "version_major": 2,
       "version_minor": 0
      },
      "text/plain": [
       "  0%|          | 0/5842 [00:00<?, ?it/s]"
      ]
     },
     "metadata": {},
     "output_type": "display_data"
    },
    {
     "name": "stdout",
     "output_type": "stream",
     "text": [
      "Processing label 5...\n"
     ]
    },
    {
     "data": {
      "application/vnd.jupyter.widget-view+json": {
       "model_id": "a96a162f08c0492392779963e6ae44bd",
       "version_major": 2,
       "version_minor": 0
      },
      "text/plain": [
       "  0%|          | 0/5421 [00:00<?, ?it/s]"
      ]
     },
     "metadata": {},
     "output_type": "display_data"
    },
    {
     "name": "stdout",
     "output_type": "stream",
     "text": [
      "Processing label 6...\n"
     ]
    },
    {
     "data": {
      "application/vnd.jupyter.widget-view+json": {
       "model_id": "0ee0f9f5a8de45069b211cb3134f1325",
       "version_major": 2,
       "version_minor": 0
      },
      "text/plain": [
       "  0%|          | 0/5918 [00:00<?, ?it/s]"
      ]
     },
     "metadata": {},
     "output_type": "display_data"
    },
    {
     "name": "stdout",
     "output_type": "stream",
     "text": [
      "Processing label 7...\n"
     ]
    },
    {
     "data": {
      "application/vnd.jupyter.widget-view+json": {
       "model_id": "bfff8c18edb4480abce5a37e727174b0",
       "version_major": 2,
       "version_minor": 0
      },
      "text/plain": [
       "  0%|          | 0/6265 [00:00<?, ?it/s]"
      ]
     },
     "metadata": {},
     "output_type": "display_data"
    },
    {
     "name": "stdout",
     "output_type": "stream",
     "text": [
      "Processing label 8...\n"
     ]
    },
    {
     "data": {
      "application/vnd.jupyter.widget-view+json": {
       "model_id": "28deff83fd5641af8ab09083b34a5bbb",
       "version_major": 2,
       "version_minor": 0
      },
      "text/plain": [
       "  0%|          | 0/5851 [00:00<?, ?it/s]"
      ]
     },
     "metadata": {},
     "output_type": "display_data"
    },
    {
     "name": "stdout",
     "output_type": "stream",
     "text": [
      "Processing label 9...\n"
     ]
    },
    {
     "data": {
      "application/vnd.jupyter.widget-view+json": {
       "model_id": "de308f9e537f4fdfb50372ab11484257",
       "version_major": 2,
       "version_minor": 0
      },
      "text/plain": [
       "  0%|          | 0/5949 [00:00<?, ?it/s]"
      ]
     },
     "metadata": {},
     "output_type": "display_data"
    }
   ],
   "source": [
    "# Going through each label\n",
    "P = {\n",
    "    'config':\n",
    "    {\n",
    "        'net': NET_PATH,\n",
    "        'delta': DELTA,\n",
    "        'data_len': DATA[1].shape[0]\n",
    "    }\n",
    "}\n",
    "\n",
    "for label in range(10):\n",
    "    # Filetering relevant data alone\n",
    "    mask = (DATA[1] == label).numpy()\n",
    "    S = imgs[mask]\n",
    "\n",
    "    # Initializing a counter\n",
    "    count = np.zeros((LAYERS, 256))\n",
    "\n",
    "    # Counting across relevant data\n",
    "    print(f\"Processing label {label}...\")\n",
    "\n",
    "    for example in tqdm(S):\n",
    "        outputs = session.run(None, {input_name: example})\n",
    "        neuron_activations = np.concatenate(outputs[1:])\n",
    "        whether_activated = neuron_activations > 0\n",
    "        count += whether_activated\n",
    "\n",
    "    # Adding neuron indices in A or D based on whether their fr (frequency ratio) is greater than or lesser than delta\n",
    "    fr = count / S.shape[0]\n",
    "    greater_than_delta = np.where(fr>=DELTA)\n",
    "    lesser_than_delta = np.where(fr<(1-DELTA))\n",
    "    A = list(zip(greater_than_delta[0], greater_than_delta[1]))\n",
    "    D = list(zip(lesser_than_delta[0], lesser_than_delta[1]))\n",
    "    \n",
    "    P[label] = {\n",
    "        \"A\":\n",
    "        {\n",
    "            \"len\": len(A),\n",
    "            \"indices\": A\n",
    "        },\n",
    "        \"B\": {\n",
    "            \"len\": len(D),\n",
    "            \"indices\": D\n",
    "        }\n",
    "    }"
   ]
  },
  {
   "cell_type": "code",
   "execution_count": 15,
   "metadata": {},
   "outputs": [],
   "source": [
    "# Writing it out into a file\n",
    "\n",
    "with open(f\"./NAPs/{EXPT_NAME}.json\", \"w\") as f:\n",
    "    json.dump(P, f, cls=NumpyEncoder)"
   ]
  },
  {
   "cell_type": "code",
   "execution_count": null,
   "metadata": {},
   "outputs": [],
   "source": []
  }
 ],
 "metadata": {
  "kernelspec": {
   "display_name": "Python 3",
   "language": "python",
   "name": "python3"
  },
  "language_info": {
   "codemirror_mode": {
    "name": "ipython",
    "version": 3
   },
   "file_extension": ".py",
   "mimetype": "text/x-python",
   "name": "python",
   "nbconvert_exporter": "python",
   "pygments_lexer": "ipython3",
   "version": "3.10.12"
  }
 },
 "nbformat": 4,
 "nbformat_minor": 2
}
