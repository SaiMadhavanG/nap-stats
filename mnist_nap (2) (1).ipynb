{
  "cells": [
    {
      "cell_type": "code",
      "execution_count": 4,
      "metadata": {},
      "outputs": [],
      "source": [
        "import torch\n",
        "import torch.nn as nn\n",
        "from torch.utils.data import DataLoader\n",
        "from torchvision import datasets, transforms\n",
        "import numpy as np\n",
        "import onnx\n",
        "import json\n",
        "from onnx2pytorch import ConvertModel"
      ]
    },
    {
      "cell_type": "code",
      "execution_count": 2,
      "metadata": {
        "id": "2WNl2l9Gs0_q"
      },
      "outputs": [],
      "source": [
        "\n",
        "TRAIN_BS = 32\n",
        "TEST_BS = 32\n",
        "\n",
        "device = torch.device('cuda' if torch.cuda.is_available() else 'cpu')\n",
        "\n",
        "transform=transforms.Compose([\n",
        "        transforms.ToTensor(),\n",
        "        transforms.Normalize((0.1307,), (0.3081,))\n",
        "        ])\n",
        "\n",
        "DLD_DATA = True\n",
        "train_set = datasets.MNIST('./data', train=True, download=DLD_DATA,\n",
        "                          transform=transform)\n",
        "test_set = datasets.MNIST('./data', train=False, download=DLD_DATA,\n",
        "                          transform=transform)\n",
        "X_train_tensor = train_set.data\n",
        "y_train_tensor = train_set.targets\n",
        "X_test_tensor = test_set.data\n",
        "y_test_tensor = test_set.targets\n",
        "train_loader = DataLoader(train_set, batch_size=1, shuffle=True)\n",
        "test_loader = DataLoader(test_set, batch_size=1, shuffle=True)\n",
        "num_labels = len(np.unique(test_set.targets))\n",
        "num_inputs = len(X_train_tensor[0])"
      ]
    },
    {
      "cell_type": "code",
      "execution_count": 3,
      "metadata": {
        "id": "DPvg1unT0DXK"
      },
      "outputs": [],
      "source": [
        "random_seed=42\n",
        "epsilons = [0, .05, .1, .15, .2, .25, .3]\n",
        "# Set random seed for reproducibility\n",
        "torch.manual_seed(random_seed)\n",
        "\n",
        "def get_relu_activations(model, input):\n",
        "  model_relu_layers=[]\n",
        "  i=0\n",
        "  for name, layer in model.named_modules():\n",
        "    if i>0:\n",
        "      input=layer(input)\n",
        "      if isinstance(layer, nn.ReLU):\n",
        "        model_relu_layers.append(input[0]) #if using unsqeeze, use [0].\n",
        "    i=i+1\n",
        "  concatenated_tensor=torch.concatenate(model_relu_layers)\n",
        "  concatenated_tensor.flatten()\n",
        "  return concatenated_tensor\n",
        "\n",
        "\n",
        "def get_binary_abstraction(activations):\n",
        "  nap=[]\n",
        "  for i in activations:\n",
        "    if i>0:\n",
        "      nap.append(1)\n",
        "    elif i==0:\n",
        "      nap.append(0)\n",
        "    else:\n",
        "      nap.append('*')\n",
        "  return nap\n",
        "\n",
        "\n",
        "def find_states(onnx_path=None, states_path=\"wbc_480_relu_states.txt\"):\n",
        "  global neurons, relu_layers\n",
        "\n",
        "  neurons=0\n",
        "  relu_layers=0\n",
        "  # Assuming the ReLU layers are named similarly to your PyTorch model, you can add hooks like this\n",
        "  for name, layer in model.named_modules():\n",
        "    if isinstance(layer, nn.Linear):\n",
        "      neurons=layer.in_features\n",
        "    if isinstance(layer, torch.nn.ReLU):\n",
        "      relu_layers+=1\n",
        "\n",
        "  states={}\n",
        "  for i in range(num_labels):\n",
        "    states[i]=[]\n",
        "\n",
        "  with torch.no_grad():\n",
        "    for i, t in train_loader:\n",
        "        t=t.item()\n",
        "        i=i.float().to(device)\n",
        "        out=get_relu_activations(model,i)\n",
        "        states[t].append(out[0].detach().cpu().numpy().tolist())\n",
        "\n",
        "  with open(states_path, \"w\") as fp:\n",
        "    json.dump(states, fp)\n",
        "\n",
        "  return states\n",
        "\n",
        "def get_label_naps(states,delta=0.99):\n",
        "  label_naps={}\n",
        "  for label in states:\n",
        "    label_naps[label]={}\n",
        "    for relu in range(len(states[label][0])):\n",
        "      if (np.count_nonzero(states[label][:,relu])/len(states[label][:,relu]))>=delta:\n",
        "        label_naps[label][relu]=1\n",
        "      elif (np.count_nonzero(states[label][:,relu])/len(states[label][:,relu])) <=(1-delta):\n",
        "        label_naps[label][relu]=0\n",
        "  return label_naps\n"
      ]
    },
    {
      "cell_type": "code",
      "execution_count": 4,
      "metadata": {
        "id": "1Kq72Vnu6Nf5"
      },
      "outputs": [
        {
          "name": "stderr",
          "output_type": "stream",
          "text": [
            "/home/saimadhavang/.local/lib/python3.10/site-packages/onnx2pytorch/convert/layer.py:30: UserWarning: The given NumPy array is not writable, and PyTorch does not support non-writable tensors. This means writing to this tensor will result in undefined behavior. You may want to copy the array to protect its data or make it writable before converting it to a tensor. This type of warning will be suppressed for the rest of this program. (Triggered internally at ../torch/csrc/utils/tensor_numpy.cpp:206.)\n",
            "  layer.weight.data = torch.from_numpy(numpy_helper.to_array(weight))\n"
          ]
        }
      ],
      "source": [
        "model = ConvertModel(onnx.load('mnist-net_256x4.onnx')).to(device)"
      ]
    },
    {
      "cell_type": "code",
      "execution_count": 5,
      "metadata": {
        "colab": {
          "base_uri": "https://localhost:8080/"
        },
        "id": "_kp-u-xFmXK8",
        "outputId": "6585fe90-28a0-43a2-84f6-563b171a048a"
      },
      "outputs": [
        {
          "name": "stdout",
          "output_type": "stream",
          "text": [
            "10\n",
            "5923\n"
          ]
        }
      ],
      "source": [
        "# images, labels = next(iter(train_loader))\n",
        "# images\n",
        "neurons=0\n",
        "relu_layers=0\n",
        "# Assuming the ReLU layers are named similarly to your PyTorch model, you can add hooks like this\n",
        "for name, layer in model.named_modules():\n",
        "  if isinstance(layer, nn.Linear):\n",
        "    neurons=layer.in_features\n",
        "  if isinstance(layer, torch.nn.ReLU):\n",
        "    relu_layers+=1\n",
        "\n",
        "states={}\n",
        "for i in range(num_labels):\n",
        "  states[i]=[]\n",
        "\n",
        "with torch.no_grad():\n",
        "  for i, t in train_loader:\n",
        "      t=t.item()\n",
        "      i=i.float().to(device)\n",
        "      out=get_relu_activations(model,i)\n",
        "      states[t].append(out.detach().cpu().numpy().tolist())\n",
        "print(len(states))\n",
        "print(len(states[0]))"
      ]
    },
    {
      "cell_type": "code",
      "execution_count": 12,
      "metadata": {},
      "outputs": [
        {
          "data": {
            "text/plain": [
              "(5923, 1024)"
            ]
          },
          "execution_count": 12,
          "metadata": {},
          "output_type": "execute_result"
        }
      ],
      "source": [
        "states[0].shape"
      ]
    },
    {
      "cell_type": "code",
      "execution_count": 6,
      "metadata": {
        "id": "xebqZwqz3Qzo"
      },
      "outputs": [],
      "source": [
        "for i in states:\n",
        "  states[i]=np.array(states[i])\n",
        "label_naps = get_label_naps(states)"
      ]
    },
    {
      "cell_type": "code",
      "execution_count": 7,
      "metadata": {
        "colab": {
          "base_uri": "https://localhost:8080/"
        },
        "id": "0oFeoEHeAHki",
        "outputId": "127f2006-7383-47de-9d17-f618e9bc7465"
      },
      "outputs": [],
      "source": [
        "i=0\n",
        "neurons=0\n",
        "# Assuming the ReLU layers are named similarly to your PyTorch model, you can add hooks like this\n",
        "for name, layer in model.named_modules():\n",
        "  if isinstance(layer, nn.Linear):\n",
        "    neurons=layer.in_features\n",
        "  if isinstance(layer, torch.nn.ReLU):\n",
        "      i=i+1\n",
        "relu_layers=i"
      ]
    },
    {
      "cell_type": "code",
      "execution_count": 1,
      "metadata": {},
      "outputs": [],
      "source": [
        "import pickle"
      ]
    },
    {
      "cell_type": "code",
      "execution_count": 10,
      "metadata": {},
      "outputs": [],
      "source": [
        "pickle.dump(label_naps, open(\"./label_naps_99.pkl\", \"wb\"))"
      ]
    },
    {
      "cell_type": "code",
      "execution_count": 2,
      "metadata": {},
      "outputs": [],
      "source": [
        "label_naps = pickle.load(open(\"./label_naps_99.pkl\", \"rb\"))"
      ]
    },
    {
      "cell_type": "code",
      "execution_count": 11,
      "metadata": {},
      "outputs": [],
      "source": [
        "jj = json.load(open(\"./NAPs/256x4_delta99_nt.json\"))"
      ]
    },
    {
      "cell_type": "code",
      "execution_count": 34,
      "metadata": {},
      "outputs": [
        {
          "data": {
            "text/plain": [
              "[[0, 105], [0, 147], [0, 159]]"
            ]
          },
          "execution_count": 34,
          "metadata": {},
          "output_type": "execute_result"
        }
      ],
      "source": [
        "jj['0']['A']['indices']"
      ]
    },
    {
      "cell_type": "code",
      "execution_count": 47,
      "metadata": {},
      "outputs": [],
      "source": [
        "from copy import deepcopy"
      ]
    },
    {
      "cell_type": "code",
      "execution_count": 48,
      "metadata": {},
      "outputs": [],
      "source": [
        "ii = deepcopy(label_naps)"
      ]
    },
    {
      "cell_type": "code",
      "execution_count": 49,
      "metadata": {},
      "outputs": [],
      "source": [
        "for label in range(10):\n",
        "    for idx in jj[str(label)]['A']['indices']:\n",
        "        new_idx = idx[0]*256 + idx[1]\n",
        "        assert ii[label][new_idx] == 1\n",
        "        del ii[label][new_idx]\n",
        "    for idx in jj[str(label)]['B']['indices']:\n",
        "        new_idx = idx[0]*256 + idx[1]\n",
        "        assert ii[label][new_idx] == 0\n",
        "        del ii[label][new_idx]\n",
        "    assert len(ii[label]) ==0"
      ]
    },
    {
      "cell_type": "code",
      "execution_count": 50,
      "metadata": {},
      "outputs": [
        {
          "data": {
            "text/plain": [
              "{0: {}, 1: {}, 2: {}, 3: {}, 4: {}, 5: {}, 6: {}, 7: {}, 8: {}, 9: {}}"
            ]
          },
          "execution_count": 50,
          "metadata": {},
          "output_type": "execute_result"
        }
      ],
      "source": [
        "ii"
      ]
    },
    {
      "cell_type": "code",
      "execution_count": 22,
      "metadata": {},
      "outputs": [],
      "source": [
        "for idx in jj['0']['A']['indices']:\n",
        "    new_idx = idx[0]*256 + idx[1]\n",
        "    assert ii[0][new_idx] == 1\n",
        "    del ii[0][new_idx]"
      ]
    },
    {
      "cell_type": "code",
      "execution_count": 24,
      "metadata": {},
      "outputs": [],
      "source": [
        "for idx in jj['0']['B']['indices']:\n",
        "    new_idx = idx[0]*256 + idx[1]\n",
        "    assert ii[0][new_idx] == 0\n",
        "    del ii[0][new_idx]"
      ]
    },
    {
      "cell_type": "code",
      "execution_count": 25,
      "metadata": {},
      "outputs": [
        {
          "data": {
            "text/plain": [
              "0"
            ]
          },
          "execution_count": 25,
          "metadata": {},
          "output_type": "execute_result"
        }
      ],
      "source": [
        "len(ii[0])"
      ]
    },
    {
      "cell_type": "code",
      "execution_count": 21,
      "metadata": {},
      "outputs": [
        {
          "data": {
            "text/plain": [
              "620"
            ]
          },
          "execution_count": 21,
          "metadata": {},
          "output_type": "execute_result"
        }
      ],
      "source": [
        "jj['0']['A']['len'] + jj['0']['B']['len']"
      ]
    },
    {
      "cell_type": "code",
      "execution_count": null,
      "metadata": {},
      "outputs": [],
      "source": []
    }
  ],
  "metadata": {
    "colab": {
      "machine_shape": "hm",
      "provenance": []
    },
    "kernelspec": {
      "display_name": "Python 3",
      "name": "python3"
    },
    "language_info": {
      "codemirror_mode": {
        "name": "ipython",
        "version": 3
      },
      "file_extension": ".py",
      "mimetype": "text/x-python",
      "name": "python",
      "nbconvert_exporter": "python",
      "pygments_lexer": "ipython3",
      "version": "3.10.12"
    }
  },
  "nbformat": 4,
  "nbformat_minor": 0
}
